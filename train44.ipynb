{
  "nbformat": 4,
  "nbformat_minor": 0,
  "metadata": {
    "accelerator": "GPU",
    "anaconda-cloud": {},
    "colab": {
      "name": "trian4.ipynb",
      "provenance": [],
      "private_outputs": true,
      "collapsed_sections": []
    },
    "kernelspec": {
      "name": "python3",
      "display_name": "Python 3"
    },
    "language_info": {
      "codemirror_mode": {
        "name": "ipython",
        "version": 3
      },
      "file_extension": ".py",
      "mimetype": "text/x-python",
      "name": "python",
      "nbconvert_exporter": "python",
      "pygments_lexer": "ipython3",
      "version": "3.5.2"
    }
  },
  "cells": [
    {
      "cell_type": "markdown",
      "metadata": {
        "colab_type": "text",
        "id": "3wF5wszaj97Y"
      },
      "source": [
        "# 以相似度为训练目标"
      ]
    },
    {
      "cell_type": "markdown",
      "metadata": {
        "colab_type": "text",
        "id": "nnrWf3PCEzXL"
      },
      "source": [
        "## 生成训练数据，暂存于本地"
      ]
    },
    {
      "cell_type": "code",
      "metadata": {
        "colab_type": "code",
        "id": "7aFIIQdwvPPM",
        "colab": {}
      },
      "source": [
        "!git clone https://github.com/daibiaoxuwu/05wan3"
      ],
      "execution_count": 0,
      "outputs": []
    },
    {
      "cell_type": "code",
      "metadata": {
        "colab_type": "code",
        "id": "fy2cDLkWvrvl",
        "colab": {}
      },
      "source": [
        "!git clone https://github.com/daibiaoxuwu/05wan3b"
      ],
      "execution_count": 0,
      "outputs": []
    },
    {
      "cell_type": "code",
      "metadata": {
        "colab_type": "code",
        "id": "gtgz-INDwsA2",
        "colab": {}
      },
      "source": [
        "import os\n",
        "import cv2\n",
        "import numpy as np\n",
        "path1 = '05wan3'\n",
        "path2 = '05wan3b/0'\n",
        "\n",
        "clocks = dict()\n",
        "x_train0 = []\n",
        "y_train0 = []\n",
        "for filename in os.listdir(path2):\n",
        "    if 'git' in filename: continue\n",
        "    #print(path1)\n",
        "    #ftimestr,number = path1.split('_')\n",
        "    clocks[int(filename.split('_')[0])]=int(filename.split('_')[1][:-4])\n",
        "    #clocks[int(ftimestr)]=int(number)\n",
        "keys = clocks.keys()\n",
        "for filename in os.listdir(path1):\n",
        "    if 'git' in filename or 'c.jpg' in filename: continue\n",
        "    ftime = int(filename.split('_')[0])\n",
        "    value = max(filter(lambda t:t<ftime,keys))\n",
        "    x_train0.append(cv2.imread(os.path.join(path1,filename), cv2.IMREAD_GRAYSCALE)/255.0)\n",
        "    y_train0.append(clocks[value])\n",
        "    \n",
        "print(len(x_train0),len(y_train0))"
      ],
      "execution_count": 0,
      "outputs": []
    },
    {
      "cell_type": "code",
      "metadata": {
        "colab_type": "code",
        "id": "d0agG8K9wD3x",
        "colab": {}
      },
      "source": [
        "import seaborn as sns\n",
        "sns.countplot(y_train0)\n",
        "print(y_train0[:100])"
      ],
      "execution_count": 0,
      "outputs": []
    },
    {
      "cell_type": "code",
      "metadata": {
        "id": "Nfh7yl-KKJQg",
        "colab_type": "code",
        "colab": {}
      },
      "source": [
        "\n",
        "from matplotlib import pyplot as plt\n",
        "lst = os.listdir(path1)\n",
        "for i in range(5):\n",
        "  plt.imshow(x_train0[i])\n",
        "  plt.show()\n",
        "  print(y_train0[i])\n",
        "  print(lst[i])"
      ],
      "execution_count": 0,
      "outputs": []
    },
    {
      "cell_type": "markdown",
      "metadata": {
        "colab_type": "text",
        "id": "-lmz0keARk85"
      },
      "source": [
        "# 转为onehot，分离test和train"
      ]
    },
    {
      "cell_type": "markdown",
      "metadata": {
        "id": "8vuxEAairfHZ",
        "colab_type": "text"
      },
      "source": [
        ""
      ]
    },
    {
      "cell_type": "markdown",
      "metadata": {
        "colab_type": "text",
        "id": "VBl_86rWRk9F"
      },
      "source": [
        "# 装载Tensorflow"
      ]
    },
    {
      "cell_type": "code",
      "metadata": {
        "colab_type": "code",
        "id": "0trJmd6DjqBZ",
        "colab": {}
      },
      "source": [
        "from __future__ import absolute_import, division, print_function, unicode_literals\n",
        "\n",
        "# 安装 TensorFlow\n",
        "try:\n",
        "  # Colab only\n",
        "  %tensorflow_version 2.x\n",
        "except Exception:\n",
        "    pass\n",
        "\n",
        "import tensorflow as tf"
      ],
      "execution_count": 0,
      "outputs": []
    },
    {
      "cell_type": "markdown",
      "metadata": {
        "colab_type": "text",
        "id": "8JqmdPzmRk9Q"
      },
      "source": [
        "# 输入数据生成器\n",
        "# 变为5张图片一叠"
      ]
    },
    {
      "cell_type": "code",
      "metadata": {
        "id": "si3oM-1kaAZf",
        "colab_type": "code",
        "colab": {}
      },
      "source": [
        "idxes = []\n",
        "for i in range(10):idxes.append([])\n",
        "for idx, val in enumerate(y_train0):\n",
        "  idxes[val].append(idx)\n",
        "for i in range(10):\n",
        "  print(idxes[i][0:2])"
      ],
      "execution_count": 0,
      "outputs": []
    },
    {
      "cell_type": "markdown",
      "metadata": {
        "id": "CHkrqjHhbzHw",
        "colab_type": "text"
      },
      "source": [
        "\n",
        "# 搭建模型和训练\n",
        "现在的网络去掉dropout则可以拟合10张图片，\n",
        "但是加上dropout就拟合不了。\n",
        "从7张拟合5张的，则可以在两个epoch（每个epoch抽取60000次）内到80%。\n",
        "\n",
        "继续训练20张，一个epoch就到60%。"
      ]
    },
    {
      "cell_type": "code",
      "metadata": {
        "colab_type": "code",
        "id": "h3IKyzTCDNGo",
        "colab": {}
      },
      "source": [
        "\n",
        "model = tf.keras.models.Sequential([\n",
        "    tf.keras.layers.Conv2D(32, (5, 5),padding = 'Same',  activation='relu', input_shape=(12, 12, 5)),\n",
        "    tf.keras.layers.Conv2D(32, (5, 5),padding = 'Same',  activation='relu'),\n",
        "    tf.keras.layers.MaxPooling2D((2, 2)),\n",
        "    tf.keras.layers.Dropout(0.25),\n",
        "    tf.keras.layers.Conv2D(64, (3, 3),padding = 'Same',  activation='relu'),\n",
        "    tf.keras.layers.Conv2D(64, (3, 3),padding = 'Same',  activation='relu'),\n",
        "    tf.keras.layers.MaxPooling2D((2, 2)),\n",
        "    \n",
        "    #tf.keras.layers.Dropout(0.25),\n",
        "    tf.keras.layers.Flatten(),\n",
        "    tf.keras.layers.Dense(256, activation='relu'),\n",
        "    #tf.keras.layers.Dropout(0.5),\n",
        "    tf.keras.layers.Dense(10,activation='softmax')\n",
        "])\n",
        "\n",
        "model.compile(optimizer='adam',\n",
        "              loss='sparse_categorical_crossentropy',\n",
        "              metrics=['accuracy'])\n"
      ],
      "execution_count": 0,
      "outputs": []
    },
    {
      "cell_type": "markdown",
      "metadata": {
        "id": "6GlHEnVJfA2D",
        "colab_type": "text"
      },
      "source": [
        "# 搭建训练数据"
      ]
    },
    {
      "cell_type": "markdown",
      "metadata": {
        "id": "ASxEhVGMgMLD",
        "colab_type": "text"
      },
      "source": [
        "## 搭建Overfit数据：只有十叠按序的照片"
      ]
    },
    {
      "cell_type": "code",
      "metadata": {
        "id": "-sH-e0ceeRol",
        "colab_type": "code",
        "colab": {}
      },
      "source": [
        "import random\n",
        "def train_generator():\n",
        "  for train in range(60000):\n",
        "    ans = random.randint(0,9)\n",
        "    idx2 = idxes[ans][:5]\n",
        "    data = np.stack([x_train0[ix] for ix in idx2],axis=2)\n",
        "    yield data,ans"
      ],
      "execution_count": 0,
      "outputs": []
    },
    {
      "cell_type": "code",
      "metadata": {
        "id": "wHLFpaRmfJwU",
        "colab_type": "code",
        "colab": {}
      },
      "source": [
        "train_dataset = tf.data.Dataset.from_generator(train_generator,  (tf.float32, tf.float32), (tf.TensorShape([12,12,5]),tf.TensorShape([])))\n",
        "train_dataset = train_dataset.batch(32)"
      ],
      "execution_count": 0,
      "outputs": []
    },
    {
      "cell_type": "code",
      "metadata": {
        "id": "aiXxR3CUgs3P",
        "colab_type": "code",
        "colab": {}
      },
      "source": [
        "model.fit(train_dataset,epochs=10)"
      ],
      "execution_count": 0,
      "outputs": []
    },
    {
      "cell_type": "markdown",
      "metadata": {
        "id": "c2ogrfi4gWds",
        "colab_type": "text"
      },
      "source": [
        "# 两个epoch后达到99正确率。下面采用乱序的7张照片中取5张。"
      ]
    },
    {
      "cell_type": "code",
      "metadata": {
        "id": "eMUYQrfCf6_u",
        "colab_type": "code",
        "colab": {}
      },
      "source": [
        "import random\n",
        "def train_generator(slice):\n",
        "  for train in range(60000):\n",
        "    ans = random.randint(0,9)\n",
        "    idx2 = random.sample(idxes[ans][:slice],5)\n",
        "    data = np.stack([x_train0[ix] for ix in idx2],axis=2)\n",
        "    ansy = np.zeros(10)\n",
        "    ansy[ans] = 1\n",
        "    yield data,ans"
      ],
      "execution_count": 0,
      "outputs": []
    },
    {
      "cell_type": "code",
      "metadata": {
        "id": "dzzTIoElf8xF",
        "colab_type": "code",
        "colab": {}
      },
      "source": [
        "train_dataset = tf.data.Dataset.from_generator(train_generator,  (tf.float32, tf.float32), (tf.TensorShape([12,12,5]),tf.TensorShape([])), args=(7,))\n",
        "train_dataset = train_dataset.batch(32)"
      ],
      "execution_count": 0,
      "outputs": []
    },
    {
      "cell_type": "code",
      "metadata": {
        "id": "m6o9FT6MeafV",
        "colab_type": "code",
        "colab": {}
      },
      "source": [
        "model.fit(train_dataset,epochs=2)"
      ],
      "execution_count": 0,
      "outputs": []
    },
    {
      "cell_type": "code",
      "metadata": {
        "id": "BEzw3u1LX9H_",
        "colab_type": "code",
        "colab": {}
      },
      "source": [
        "tx,ty = next(train_generator())\n",
        "for i in range(5):\n",
        "  plt.imshow(tx[:,:,i])\n",
        "  plt.show()\n",
        "print(ty)\n",
        "print(model.predict(np.array((tx,))))"
      ],
      "execution_count": 0,
      "outputs": []
    },
    {
      "cell_type": "markdown",
      "metadata": {
        "colab_type": "text",
        "id": "ix4mEL65on-w"
      },
      "source": [
        "# 训练并验证模型："
      ]
    }
  ]
}