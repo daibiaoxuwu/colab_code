{
  "nbformat": 4,
  "nbformat_minor": 0,
  "metadata": {
    "accelerator": "GPU",
    "anaconda-cloud": {},
    "colab": {
      "name": "train910.ipynb",
      "provenance": [],
      "collapsed_sections": []
    },
    "kernelspec": {
      "name": "python3",
      "display_name": "Python 3"
    },
    "language_info": {
      "codemirror_mode": {
        "name": "ipython",
        "version": 3
      },
      "file_extension": ".py",
      "mimetype": "text/x-python",
      "name": "python",
      "nbconvert_exporter": "python",
      "pygments_lexer": "ipython3",
      "version": "3.5.2"
    }
  },
  "cells": [
    {
      "cell_type": "markdown",
      "metadata": {
        "colab_type": "text",
        "id": "3wF5wszaj97Y"
      },
      "source": [
        "# 以相似度为训练目标"
      ]
    },
    {
      "cell_type": "code",
      "metadata": {
        "id": "XvbeBFq24MoG",
        "colab_type": "code",
        "outputId": "d4510615-f27c-4945-bc48-91e919255cb2",
        "colab": {
          "base_uri": "https://localhost:8080/",
          "height": 126
        }
      },
      "source": [
        "from google.colab import drive\n",
        "drive.mount('/content/drive')"
      ],
      "execution_count": 1,
      "outputs": [
        {
          "output_type": "stream",
          "text": [
            "Go to this URL in a browser: https://accounts.google.com/o/oauth2/auth?client_id=947318989803-6bn6qk8qdgf4n4g3pfee6491hc0brc4i.apps.googleusercontent.com&redirect_uri=urn%3aietf%3awg%3aoauth%3a2.0%3aoob&response_type=code&scope=email%20https%3a%2f%2fwww.googleapis.com%2fauth%2fdocs.test%20https%3a%2f%2fwww.googleapis.com%2fauth%2fdrive%20https%3a%2f%2fwww.googleapis.com%2fauth%2fdrive.photos.readonly%20https%3a%2f%2fwww.googleapis.com%2fauth%2fpeopleapi.readonly\n",
            "\n",
            "Enter your authorization code:\n",
            "··········\n",
            "Mounted at /content/drive\n"
          ],
          "name": "stdout"
        }
      ]
    },
    {
      "cell_type": "markdown",
      "metadata": {
        "colab_type": "text",
        "id": "nnrWf3PCEzXL"
      },
      "source": [
        "## 训练数据生成器"
      ]
    },
    {
      "cell_type": "code",
      "metadata": {
        "id": "Ez32DOYVjHFU",
        "colab_type": "code",
        "outputId": "1524a1dd-63e5-4836-c2b1-154b6db4f647",
        "colab": {
          "base_uri": "https://localhost:8080/",
          "height": 266
        }
      },
      "source": [
        "!git clone https://github.com/daibiaoxuwu/328\n",
        "!git clone https://github.com/daibiaoxuwu/328b\n"
      ],
      "execution_count": 2,
      "outputs": [
        {
          "output_type": "stream",
          "text": [
            "Cloning into '328'...\n",
            "remote: Enumerating objects: 39999, done.\u001b[K\n",
            "remote: Counting objects: 100% (39999/39999), done.\u001b[K\n",
            "remote: Compressing objects: 100% (9914/9914), done.\u001b[K\n",
            "remote: Total 39999 (delta 30085), reused 39999 (delta 30085), pack-reused 0\n",
            "Receiving objects: 100% (39999/39999), 23.61 MiB | 26.78 MiB/s, done.\n",
            "Resolving deltas: 100% (30085/30085), done.\n",
            "Checking out files: 100% (39997/39997), done.\n",
            "Cloning into '328b'...\n",
            "remote: Enumerating objects: 427, done.\u001b[K\n",
            "remote: Counting objects: 100% (427/427), done.\u001b[K\n",
            "remote: Compressing objects: 100% (427/427), done.\u001b[K\n",
            "remote: Total 427 (delta 0), reused 427 (delta 0), pack-reused 0\u001b[K\n",
            "Receiving objects: 100% (427/427), 3.03 MiB | 7.19 MiB/s, done.\n"
          ],
          "name": "stdout"
        }
      ]
    },
    {
      "cell_type": "code",
      "metadata": {
        "colab_type": "code",
        "id": "7aFIIQdwvPPM",
        "colab": {}
      },
      "source": [
        "import os\n",
        "import cv2\n",
        "import numpy as np\n",
        "import random\n",
        "from matplotlib import pyplot as plt\n",
        "\n",
        "datasizex = 9\n",
        "datasizey = 9\n",
        "picnum = 30\n",
        "lowpercent = 125.0\n",
        "highpercent = 233.0\n",
        "enhance = 4\n",
        "def read_data(path1,path2):\n",
        "\n",
        "  x_train0 = []\n",
        "  y_train0 = dict()\n",
        "  idxes = dict()\n",
        "\n",
        "  #read clock\n",
        "  #read and /255\n",
        "  for filename in os.listdir(path2):\n",
        "      if 'git' in filename: continue\n",
        "      ans = cv2.imread(os.path.join(path2,filename),cv2.IMREAD_GRAYSCALE).astype('float32')     \n",
        "      ans = np.clip((ans-lowpercent)/(highpercent - lowpercent),0,1)\n",
        "      y_train0[int(filename[:-4])]=ans\n",
        "\n",
        "  keys = list(y_train0.keys())\n",
        "  \n",
        "  #read data\n",
        "  #add an axis and /255\n",
        "  \n",
        "  filelist = os.listdir(path1)\n",
        "  random.shuffle(filelist)\n",
        "  index = 0\n",
        "  for filename in filelist:\n",
        "      if 'git' in filename or 'c.jpg' in filename: continue\n",
        "      ##################################\n",
        "      ##################################\n",
        "      ##################################\n",
        "      ##################################\n",
        "      ##################################\n",
        "      ftime = int(filename.split('_')[0])\n",
        "      ##################################\n",
        "      ##################################\n",
        "      ##################################\n",
        "      ##################################\n",
        "      ##################################\n",
        "      value = max(filter(lambda t:t<ftime,keys))\n",
        "      if(abs(ftime-value)<3000):continue\n",
        "\n",
        "      x_train0.append(cv2.imread(os.path.join(path1,filename)).astype('float32')/255.0)\n",
        "      if value not in idxes:idxes[value]=[index]\n",
        "      else: idxes[value].append(index)\n",
        "      index += 1\n",
        "\n",
        "  #index data\n",
        "  print(len(x_train0),index,len(y_train0),len(idxes.keys()))\n",
        "  lens = [len(i) for i in idxes.values()]\n",
        "  print(min(lens),max(lens),np.average(lens))\n",
        "  for key,val in list(idxes.items()):\n",
        "    if len(val)<picnum:\n",
        "      idxes.pop(key)\n",
        "  \n",
        "\n",
        "  #generator\n",
        "  def data_generator(ikeys_t):\n",
        "    picsizex = x_train0[0].shape[0]\n",
        "    picsizey = x_train0[0].shape[1]\n",
        "    while True:\n",
        "      dataout = []\n",
        "      for i in range(picnum):dataout.append([])\n",
        "      ansout = []\n",
        "      for train2 in range(32):\n",
        "        '''\n",
        "        while True:\n",
        "          key = random.choice(ikeys_t)\n",
        "          idx2 = random.sample(idxes[key],picnum)\n",
        "          posx = random.randint(0,picsizex-datasizex)\n",
        "          posy = random.randint(0,picsizey-datasizey)\n",
        "          pic = x_train0[idx2[i]][posx:posx+datasizex,posy:posy+datasizey,:]\n",
        "          if(np.sum(pic) < 175):\n",
        "            for i in range(picnum):\n",
        "              dataout[i].append(x_train0[idx2[i]][posx:posx+datasizex,posy:posy+datasizey,:])\n",
        "            ansout.append(y_train0[key][posx:posx+datasizex,posy:posy+datasizey])\n",
        "            break\n",
        "        '''\n",
        "        key = random.choice(ikeys_t)\n",
        "        idx2 = random.sample(idxes[key],picnum)\n",
        "        posx = random.randint(0,picsizex-datasizex)\n",
        "        posy = random.randint(0,picsizey-datasizey)\n",
        "        pic = x_train0[idx2[i]][posx:posx+datasizex,posy:posy+datasizey,:]\n",
        "        for i in range(picnum):\n",
        "          dataout[i].append(x_train0[idx2[i]][posx:posx+datasizex,posy:posy+datasizey,:])\n",
        "        ansout.append(y_train0[key][posx*enhance:(posx+datasizex)*enhance,posy*enhance:(posy+datasizey)*enhance])\n",
        "      yield [np.stack(data2) for data2 in dataout],np.stack(ansout)\n",
        "  def pic_generator(ikeys_t):\n",
        "    while True:\n",
        "      key = random.choice(ikeys_t)\n",
        "      idx2 = random.sample(idxes[key],picnum)\n",
        "      data=[x_train0[i] for i in idx2]\n",
        "      ans=y_train0[key]\n",
        "      yield data,ans\n",
        "\n",
        "  #split\n",
        "  ikeys = list(idxes.keys())\n",
        "  random.shuffle(ikeys)\n",
        "  ltrain = int(len(ikeys)*0.8)  \n",
        "  train_generator = data_generator(ikeys[:ltrain])\n",
        "  test_generator = data_generator(ikeys[ltrain:])\n",
        "  train_pic_generator = pic_generator(ikeys[:ltrain])\n",
        "  test_pic_generator = pic_generator(ikeys[ltrain:])\n",
        "\n",
        "  return train_generator,test_generator,train_pic_generator,test_pic_generator\n",
        "\n"
      ],
      "execution_count": 0,
      "outputs": []
    },
    {
      "cell_type": "code",
      "metadata": {
        "id": "FfnEhjCTpreR",
        "colab_type": "code",
        "outputId": "2ae17bb0-64aa-460a-d31b-85f0fe4ca873",
        "colab": {
          "base_uri": "https://localhost:8080/",
          "height": 52
        }
      },
      "source": [
        "\n",
        "from matplotlib import pyplot as plt\n",
        "train_generator,test_generator,train_pic_generator,test_pic_generator = read_data('328','328b')\n"
      ],
      "execution_count": 5,
      "outputs": [
        {
          "output_type": "stream",
          "text": [
            "38005 38005 517 192\n",
            "156 210 197.94270833333334\n"
          ],
          "name": "stdout"
        }
      ]
    },
    {
      "cell_type": "code",
      "metadata": {
        "id": "16T8NTH7IsZH",
        "colab_type": "code",
        "outputId": "6ec3a4fa-082c-4598-ba1b-cdae670ce3f3",
        "colab": {
          "base_uri": "https://localhost:8080/",
          "height": 356
        }
      },
      "source": [
        "data,ans = next(train_generator)\n",
        "for pics in data:\n",
        "  for i in range(6):\n",
        "    plt.subplot(231+i)\n",
        "    plt.imshow(pics[i,:,:,0],cmap='gray')\n",
        "ans[0,0,0]=0\n",
        "ans[0,1,0]=1\n",
        "plt.imshow(ans[0],cmap='gray')\n",
        "print(np.sum(ans[0]))\n",
        "print(np.min(ans[0]),np.max(ans[0]))"
      ],
      "execution_count": 6,
      "outputs": [
        {
          "output_type": "stream",
          "text": [
            "/usr/local/lib/python3.6/dist-packages/ipykernel_launcher.py:4: MatplotlibDeprecationWarning: Adding an axes using the same arguments as a previous axes currently reuses the earlier instance.  In a future version, a new instance will always be created and returned.  Meanwhile, this warning can be suppressed, and the future behavior ensured, by passing a unique label to each axes instance.\n",
            "  after removing the cwd from sys.path.\n"
          ],
          "name": "stderr"
        },
        {
          "output_type": "stream",
          "text": [
            "1100.8889\n",
            "0.0 1.0\n"
          ],
          "name": "stdout"
        },
        {
          "output_type": "display_data",
          "data": {
            "image/png": "[encoded data removed]",
            "text/plain": [
              "<Figure size 432x288 with 6 Axes>"
            ]
          },
          "metadata": {
            "tags": []
          }
        }
      ]
    },
    {
      "cell_type": "markdown",
      "metadata": {
        "colab_type": "text",
        "id": "-lmz0keARk85"
      },
      "source": [
        "# 数据初始化完成。\n"
      ]
    },
    {
      "cell_type": "markdown",
      "metadata": {
        "colab_type": "text",
        "id": "VBl_86rWRk9F"
      },
      "source": [
        "# 装载Tensorflow"
      ]
    },
    {
      "cell_type": "code",
      "metadata": {
        "colab_type": "code",
        "id": "0trJmd6DjqBZ",
        "colab": {}
      },
      "source": [
        "\n",
        "from __future__ import absolute_import, division, print_function, unicode_literals\n",
        "\n",
        "# 安装 TensorFlow\n",
        "try:\n",
        "  # Colab only\n",
        "  %tensorflow_version 2.x\n",
        "except Exception:\n",
        "    pass\n",
        "\n",
        "import tensorflow as tf"
      ],
      "execution_count": 0,
      "outputs": []
    },
    {
      "cell_type": "markdown",
      "metadata": {
        "colab_type": "text",
        "id": "VxjclcvUlLv8"
      },
      "source": [
        "\n",
        "# 搭建模型和训练\n",
        "现在的网络去掉dropout则可以拟合10张图片，\n",
        "但是加上dropout就拟合不了。\n",
        "从7张拟合5张的，则可以在两个epoch（每个epoch抽取60000次）内到80%。\n",
        "\n",
        "继续训练20张，一个epoch就到60%。"
      ]
    },
    {
      "cell_type": "code",
      "metadata": {
        "id": "-nzds-gw75MO",
        "colab_type": "code",
        "colab": {}
      },
      "source": [
        "inputs = [tf.keras.layers.Input(shape=(datasizex,datasizey,3))  for i in range(picnum)]\n",
        "#inputs = tf.keras.layers.Input(shape=(5,12,12,1))\n",
        "convg1 = 0\n",
        "convd1 = 0\n",
        "convh1 = inputs\n",
        "inputs_big = inputs\n",
        "for layernum in range(8):\n",
        "  conv_a1 = tf.keras.layers.Conv2D(32, (3, 3), padding = 'Same',  activation='relu')\n",
        "  conva1 = [conv_a1(convh1[i]) for i in range(picnum)]\n",
        "  #drop_a1 = tf.keras.layers.Dropout(0.2)\n",
        "  #conva1 = drop_a1(conva1)\n",
        "  conv_b1 = tf.keras.layers.Conv2D(32, (3, 3), padding = 'Same',  activation='relu')\n",
        "  convb1 = [conv_b1(conva1[i]) for i in range(picnum)]\n",
        "  \n",
        "\n",
        "  conv_c1 = tf.keras.layers.Conv2D(32, (3, 3), padding = 'Same',  activation='relu')\n",
        "  convc1 = [conv_c1(inputs_big[i]) for i in range(picnum)]\n",
        "  #drop_b1 = tf.keras.layers.Dropout(0.2)\n",
        "  #convc1 = drop_a1(convc1)\n",
        "  conv_d1 = tf.keras.layers.Conv2D(32, (3, 3), padding = 'Same',  activation='relu')\n",
        "  convd1 = [conv_d1(convc1[i]) for i in range(picnum)]\n",
        "  \n",
        "\n",
        "  convs1 = tf.stack(convb1)\n",
        "  convf1 = [\n",
        "      tf.math.reduce_max(convs1, axis=[0]),\n",
        "      tf.math.reduce_mean(convs1, axis=[0]),\n",
        "      tf.math.reduce_min(convs1, axis=[0]),\n",
        "  ]\n",
        "\n",
        "  conv_g1 = tf.keras.layers.Conv2D(32, (3, 3), padding = 'Same',  activation='relu')\n",
        "  convg1 = [conv_g1(convf1[i]) for i in range(3)]\n",
        "\n",
        "  drop_c1 = tf.keras.layers.Dropout(0.2)\n",
        "  convh1 = [drop_c1(tf.concat(convg1+[convd1[i]],axis=3)) for i in range(picnum)]\n",
        "  if(layernum % 3 == 2):\n",
        "    convex1 = tf.keras.layers.Conv2D(32, (1, 1), padding = 'Same',  activation='relu')\n",
        "    convh1 = [tf.keras.layers.UpSampling2D(size=(2, 2), data_format=None)(i) for i in convh1]\n",
        "    convh1 = [convex1(convh1[i]) for i in range(picnum)]\n",
        "    inputs_big = [tf.keras.layers.UpSampling2D(size=(2, 2), data_format=None)(i) for i in inputs_big]\n",
        "convh3 = tf.concat(convg1+convd1,axis=3)\n",
        "\n",
        "convx1 = tf.keras.layers.Conv2D(64, (3, 3), padding = 'Same',  activation='relu')(convh3)\n",
        "convx2 = tf.keras.layers.Dropout(0.2)(convx1)\n",
        "convx3 = tf.keras.layers.Conv2D(64, (3, 3), padding = 'Same', activation='relu')(convx2)\n",
        "'''\n",
        "convx3 = tf.keras.layers.Flatten()(convx2)\n",
        "\n",
        "#keep_prob = tf.placeholder(tf.float32) # dropout (keep probability)\n",
        "convx4 = tf.keras.layers.Dropout(0.2)(convx3)\n",
        "\n",
        "convy1 = tf.keras.layers.Dense(21*45)(convx4)\n",
        "#convy3 = tf.keras.layers.Dense(10,activation='softmax')(convy1)\n",
        "convy4 = tf.keras.layers.Reshape([21,45])(convy1)\n",
        "'''\n",
        "\n",
        "convx4 = tf.keras.layers.Conv2D(1, (3, 3), padding = 'Same')(convx3)\n",
        "\n",
        "model = tf.keras.Model(inputs=inputs, outputs=convx4)\n"
      ],
      "execution_count": 0,
      "outputs": []
    },
    {
      "cell_type": "code",
      "metadata": {
        "colab_type": "code",
        "id": "aiXxR3CUgs3P",
        "colab": {}
      },
      "source": [
        "#tf.reduce_mean(tf.image.ssim(reconstructed, truth, 1.0))\n",
        "model.compile(optimizer='adam',#tf.keras.optimizers.Adam(lr=0.01, beta_1=0.9, beta_2=0.999, epsilon=1e-08, decay=0.0),\n",
        "                #loss=lambda y_pred,y_true:1-tf.reduce_mean(tf.image.ssim_multiscale(tf.clip_by_value(y_pred,0,1), y_true, 255))#-tf.reduce_mean(tf.image.psnr(tf.clip_by_value(y_pred,0,1), y_true, 1.0))\n",
        "              loss='mse',\n",
        "              metrics=['mse']\n",
        "              )\n",
        "            \n",
        "#model.summary()"
      ],
      "execution_count": 0,
      "outputs": []
    },
    {
      "cell_type": "markdown",
      "metadata": {
        "id": "pLJHKWOKSBRN",
        "colab_type": "text"
      },
      "source": [
        "# 测试正确率："
      ]
    },
    {
      "cell_type": "code",
      "metadata": {
        "id": "ubLf57E7SAZc",
        "colab_type": "code",
        "colab": {}
      },
      "source": [
        "from skimage.metrics import peak_signal_noise_ratio,structural_similarity, mean_squared_error\n",
        "class show_accuracy(tf.keras.callbacks.Callback):\n",
        "  def on_epoch_end(self, epoch, logs={}):\n",
        "    if epoch % 5 == 1:\n",
        "      data,ans = next(test_generator)\n",
        "      data = [data[x][5][np.newaxis,:,:,:] for x in range(picnum)]\n",
        "      ans = ans[5]\n",
        "      import matplotlib\n",
        "      cmap = matplotlib.cm.gray \n",
        "      cmap.set_bad(color='black')\n",
        "\n",
        "      pred = model.predict(data) #shape:(1,11,11,1) because last layer is conv not dense\n",
        "      #pred = np.clip(pred,0,1)\n",
        "      #pred = (pred-np.min(pred))/(np.max(pred)-np.min(pred))\n",
        "      #pred = softmax(pred)\n",
        "      pred[0,0,0,0]=0\n",
        "      pred[0,-1,-1,0]=1\n",
        "      ans[0,0]=0\n",
        "      ans[-1,-1]=1\n",
        "      for i in range(6):\n",
        "        plt.subplot(231+i)\n",
        "        plt.imshow(data[i][0,:,:,0],cmap=cmap)\n",
        "      plt.show()\n",
        "      plt.subplot(121)\n",
        "      plt.imshow(pred[0,:,:,0],cmap=cmap)\n",
        "      plt.colorbar()\n",
        "      #ans = np.clip((ans-np.percentile(ans,10))/(np.percentile(ans,90)-np.percentile(ans,10)),0,1)\n",
        "      plt.subplot(122)\n",
        "      plt.imshow(ans,cmap=cmap)\n",
        "      plt.colorbar()\n",
        "      plt.show()\n",
        "#      print('psnr',peak_signal_noise_ratio(np.clip(pred[0,:,:,0],0,1),ans))\n",
        "#      print('ssim',structural_similarity(np.clip(pred[0,:,:,0],0,1),ans))\n",
        "      print('mse',mean_squared_error(np.clip(pred[0,:,:,0],0,1),ans))\n",
        "\n"
      ],
      "execution_count": 0,
      "outputs": []
    },
    {
      "cell_type": "markdown",
      "metadata": {
        "id": "qMByUd_CZrg8",
        "colab_type": "text"
      },
      "source": [
        "# 开始训练"
      ]
    },
    {
      "cell_type": "code",
      "metadata": {
        "id": "KRyZI58UcIRQ",
        "colab_type": "code",
        "colab": {}
      },
      "source": [
        "# Suppress some level of logs\n",
        "import logging\n",
        "logging.getLogger(\"tensorflow\").setLevel(logging.WARN)"
      ],
      "execution_count": 0,
      "outputs": []
    },
    {
      "cell_type": "code",
      "metadata": {
        "id": "W-Qp_D7tiuyb",
        "colab_type": "code",
        "outputId": "0dd964a7-9ee1-4c88-8a79-a8a501036cb6",
        "colab": {
          "base_uri": "https://localhost:8080/",
          "height": 52
        }
      },
      "source": [
        "ckpt_filename = tf.train.latest_checkpoint(\"/content/drive/My Drive/checkpoints/training_41\")\n",
        "print(ckpt_filename)\n",
        "model.load_weights(ckpt_filename)#,by_name=True)"
      ],
      "execution_count": 12,
      "outputs": [
        {
          "output_type": "stream",
          "text": [
            "/content/drive/My Drive/checkpoints/training_41/cp-48-0.0779.ckpt\n"
          ],
          "name": "stdout"
        },
        {
          "output_type": "execute_result",
          "data": {
            "text/plain": [
              "<tensorflow.python.training.tracking.util.CheckpointLoadStatus at 0x7f8c29eabda0>"
            ]
          },
          "metadata": {
            "tags": []
          },
          "execution_count": 12
        }
      ]
    },
    {
      "cell_type": "code",
      "metadata": {
        "id": "9qeXrdtDT41r",
        "colab_type": "code",
        "colab": {}
      },
      "source": [
        "checkpoint_path = \"/content/drive/My Drive/checkpoints/training_42/cp-{epoch:02d}-{val_loss:.4f}.ckpt\"\n",
        "checkpoint_dir = os.path.dirname(checkpoint_path)\n",
        "cp_callback = tf.keras.callbacks.ModelCheckpoint(checkpoint_path,save_weights_only=True,monitor='val_loss')#,save_best_only=True,mode='min')\n",
        "show_accuracy_callback = show_accuracy()"
      ],
      "execution_count": 0,
      "outputs": []
    },
    {
      "cell_type": "code",
      "metadata": {
        "id": "gRJfYFX7HL_O",
        "colab_type": "code",
        "outputId": "9cdda020-35a5-49b9-9648-0fffe467979b",
        "colab": {
          "base_uri": "https://localhost:8080/",
          "height": 524
        }
      },
      "source": [
        "show_accuracy_callback.on_epoch_end(epoch=1)"
      ],
      "execution_count": 14,
      "outputs": [
        {
          "output_type": "display_data",
          "data": {
            "image/png": "[encoded data removed]",
            "text/plain": [
              "<Figure size 432x288 with 6 Axes>"
            ]
          },
          "metadata": {
            "tags": []
          }
        },
        {
          "output_type": "display_data",
          "data": {
            "image/png": "[encoded data removed]",
            "text/plain": [
              "<Figure size 432x288 with 4 Axes>"
            ]
          },
          "metadata": {
            "tags": []
          }
        },
        {
          "output_type": "stream",
          "text": [
            "mse 0.26885873398738747\n"
          ],
          "name": "stdout"
        }
      ]
    },
    {
      "cell_type": "code",
      "metadata": {
        "id": "SeM6ybDVHDg3",
        "colab_type": "code",
        "colab": {
          "base_uri": "https://localhost:8080/",
          "height": 88
        },
        "outputId": "14fc2b0d-0e06-4d98-967f-59c1d64782a8"
      },
      "source": [
        "if True:\n",
        "  if not os.path.exists(checkpoint_dir):\n",
        "    model.fit_generator(train_generator,epochs=200,steps_per_epoch=500,validation_data=test_generator,validation_steps=50,validation_freq=1,verbose=2,callbacks=[cp_callback,show_accuracy_callback])\n"
      ],
      "execution_count": 0,
      "outputs": [
        {
          "output_type": "stream",
          "text": [
            "WARNING:tensorflow:From <ipython-input-15-753a140962d3>:3: Model.fit_generator (from tensorflow.python.keras.engine.training) is deprecated and will be removed in a future version.\n",
            "Instructions for updating:\n",
            "Please use Model.fit, which supports generators.\n",
            "Epoch 1/200\n"
          ],
          "name": "stdout"
        }
      ]
    },
    {
      "cell_type": "markdown",
      "metadata": {
        "id": "GVe1oVQnRliy",
        "colab_type": "text"
      },
      "source": [
        "# 验证模型"
      ]
    },
    {
      "cell_type": "code",
      "metadata": {
        "id": "lu61jCnJ0fQ2",
        "colab_type": "code",
        "colab": {}
      },
      "source": [
        "def predict_pic(xpics,model):\n",
        "  # xpic: array of 5 with size(22,52,1)\n",
        "  picsizex = xpics[0].shape[0]\n",
        "  picsizey = xpics[0].shape[1]\n",
        "  picout = np.zeros((picsizex*enhance,picsizey*enhance),dtype=np.float32)\n",
        "  piclayer = np.zeros((picsizex*enhance,picsizey*enhance),dtype=int)\n",
        "  for posx in range(0,picsizex+1-datasizex):\n",
        "    for posy in range(0,picsizey+1-datasizey):\n",
        "      dataout = [pic[np.newaxis,posx:posx+datasizex,posy:posy+datasizey,:] for pic in xpics]\n",
        "      pred = model.predict(dataout)\n",
        "      picout[posx*enhance:(posx+datasizex)*enhance,posy*enhance:(posy+datasizey)*enhance] += pred[0,:,:,0]\n",
        "      piclayer[posx*enhance:(posx+datasizex)*enhance,posy*enhance:(posy+datasizey)*enhance] += np.ones((datasizex*enhance,datasizey*enhance),dtype=int)\n",
        "  picout /= piclayer\n",
        "  return picout\n"
      ],
      "execution_count": 0,
      "outputs": []
    },
    {
      "cell_type": "code",
      "metadata": {
        "id": "CAhBlSEAhnFq",
        "colab_type": "code",
        "colab": {}
      },
      "source": [
        "for t in range(20):\n",
        "  data,ans = next(test_pic_generator)\n",
        "\n",
        "  import matplotlib\n",
        "  cmap = matplotlib.cm.gray \n",
        "  cmap.set_bad(color='black')\n",
        "\n",
        "  pred = predict_pic(data,model)\n",
        "\n",
        "  for i in range(6):\n",
        "    plt.subplot(231+i)\n",
        "    b,g,r = cv2.split(data[i])       # get b,g,r\n",
        "    rgb_img = cv2.merge([r,g,b])     # switch it to rgb\n",
        "    plt.imshow(rgb_img)\n",
        "\n",
        "  plt.show()      \n",
        "  pred[0,0]=0\n",
        "  pred[-1,-1]=1\n",
        "  ans[0,0]=0\n",
        "  ans[-1,-1]=1\n",
        "  plt.subplot(121)\n",
        "  plt.imshow(pred,cmap=cmap)\n",
        "  plt.colorbar()\n",
        "  #ans = np.clip((ans-np.percentile(ans,10))/(np.percentile(ans,90)-np.percentile(ans,10)),0,1)\n",
        "  plt.subplot(122)\n",
        "  plt.imshow(ans,cmap=cmap)\n",
        "  plt.colorbar()\n",
        "  plt.show()\n",
        "  #      print('psnr',peak_signal_noise_ratio(np.clip(pred[0,:,:,0],0,1),ans))\n",
        "  #      print('ssim',structural_similarity(np.clip(pred[0,:,:,0],0,1),ans))\n",
        "  #print('mse',mean_squared_error(np.clip(pred,0,1),ans))\n"
      ],
      "execution_count": 0,
      "outputs": []
    }
  ]
}