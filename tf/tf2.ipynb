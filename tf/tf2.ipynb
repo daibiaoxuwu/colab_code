{
 "cells": [
  {
   "cell_type": "markdown",
   "metadata": {},
   "source": [
    "# 用Dense将mnist数据集跑到99%"
   ]
  },
  {
   "cell_type": "markdown",
   "metadata": {},
   "source": [
    "## 初始化，使用tf.v1，关掉debug信息"
   ]
  },
  {
   "cell_type": "code",
   "execution_count": 1,
   "metadata": {},
   "outputs": [
    {
     "name": "stdout",
     "output_type": "stream",
     "text": [
      "WARNING:tensorflow:From c:\\users\\d\\programs\\anaconda3\\lib\\site-packages\\tensorflow_core\\python\\compat\\v2_compat.py:88: disable_resource_variables (from tensorflow.python.ops.variable_scope) is deprecated and will be removed in a future version.\n",
      "Instructions for updating:\n",
      "non-resource variables are not supported in the long term\n"
     ]
    }
   ],
   "source": [
    "import os\n",
    "os.environ['TF_CPP_MIN_LOG_LEVEL'] = '2' \n",
    "import tensorflow.compat.v1 as tf\n",
    "import numpy as np\n",
    "tf.disable_v2_behavior()\n"
   ]
  },
  {
   "cell_type": "markdown",
   "metadata": {},
   "source": [
    "## 设置超参数"
   ]
  },
  {
   "cell_type": "code",
   "execution_count": 2,
   "metadata": {},
   "outputs": [],
   "source": [
    "learning_rate = 0.001\n",
    "num_steps = 600*5\n",
    "batch_size = 100\n",
    "display_step = 100\n",
    "validation_step = 600\n",
    "\n",
    "num_input = 784 # MNIST data input (img shape: 28*28)\n",
    "num_classes = 10 # MNIST total classes (0-9 digits)\n"
   ]
  },
  {
   "cell_type": "markdown",
   "metadata": {},
   "source": [
    "## 加载mnist数据"
   ]
  },
  {
   "cell_type": "code",
   "execution_count": 3,
   "metadata": {},
   "outputs": [],
   "source": [
    "mnist = tf.keras.datasets.mnist\n",
    "\n",
    "(x_train, y_train), (x_test, y_test) = mnist.load_data()\n",
    "x_train, x_test = x_train / 255.0, x_test / 255.0\n",
    "\n",
    "\n",
    "x_train = np.reshape(x_train,(-1,784))\n",
    "x_test = np.reshape(x_test,(-1,784))\n",
    "y_train = tf.keras.utils.to_categorical(y_train, num_classes=10)\n",
    "y_test = tf.keras.utils.to_categorical(y_test, num_classes=10)\n"
   ]
  },
  {
   "cell_type": "markdown",
   "metadata": {},
   "source": [
    "## 验证数据"
   ]
  },
  {
   "cell_type": "code",
   "execution_count": 4,
   "metadata": {},
   "outputs": [
    {
     "name": "stdout",
     "output_type": "stream",
     "text": [
      "[0. 0. 0. 0. 0. 0. 0. 0. 1. 0.]\n"
     ]
    }
   ],
   "source": [
    "import matplotlib.pyplot as plt\n",
    "%matplotlib inline\n",
    "image_index = 7777 # You may select anything up to 60,000\n",
    "print(y_train[image_index]) # The label is 8\n",
    "#plt.imshow(x_train[image_index].reshape((28,28)), cmap='Greys')\n",
    "#plt.show()"
   ]
  },
  {
   "cell_type": "markdown",
   "metadata": {},
   "source": [
    "## 设置训练batch generator"
   ]
  },
  {
   "cell_type": "code",
   "execution_count": 5,
   "metadata": {},
   "outputs": [],
   "source": [
    "def train_generator(batch_size):\n",
    "    while True:\n",
    "        for i in range(0, x_train.shape[0], batch_size):\n",
    "            yield x_train[i:i+batch_size,:], y_train[i:i+batch_size]\n",
    "        \n",
    "def test_generator(batch_size):\n",
    "    while True:\n",
    "        for i in range(0, x_test.shape[0], batch_size):\n",
    "            yield x_test[i:i+batch_size,:], y_test[i:i+batch_size]\n"
   ]
  },
  {
   "cell_type": "markdown",
   "metadata": {},
   "source": [
    "## 输入变量Placeholder"
   ]
  },
  {
   "cell_type": "code",
   "execution_count": 6,
   "metadata": {},
   "outputs": [],
   "source": [
    "X = tf.placeholder(tf.float32, [None, num_input])\n",
    "Y = tf.placeholder(tf.float32, [None, num_classes])\n",
    "keep_prob = tf.placeholder(tf.float32) # dropout (keep probability)\n"
   ]
  },
  {
   "cell_type": "markdown",
   "metadata": {},
   "source": [
    "# 神经网络部分\n",
    "## 卷积层"
   ]
  },
  {
   "cell_type": "code",
   "execution_count": 7,
   "metadata": {},
   "outputs": [],
   "source": [
    "def conv2d(x, W, b, strides=1):\n",
    "    # Conv2D wrapper, with bias and relu activation\n",
    "    x = tf.nn.conv2d(x, W, strides=[1, strides, strides, 1], padding='SAME')\n",
    "    x = tf.nn.bias_add(x, b)\n",
    "    return tf.nn.relu(x)\n",
    "\n",
    "\n",
    "def maxpool2d(x, k=2):\n",
    "    # MaxPool2D wrapper\n",
    "    return tf.nn.max_pool(x, ksize=[1, k, k, 1], strides=[1, k, k, 1],\n",
    "                          padding='SAME')\n",
    "\n"
   ]
  },
  {
   "cell_type": "markdown",
   "metadata": {},
   "source": [
    "## 核心函数"
   ]
  },
  {
   "cell_type": "code",
   "execution_count": 8,
   "metadata": {},
   "outputs": [],
   "source": [
    "def conv_net(x, weights, biases, dropout):\n",
    "    fc1 = tf.add(tf.matmul(x, weights['wd1']), biases['bd1'])\n",
    "    fc1 = tf.nn.relu(fc1)\n",
    "    # Apply Dropout\n",
    "    fc1 = tf.nn.dropout(fc1, dropout)\n",
    "\n",
    "    # Output, class prediction\n",
    "    out = tf.add(tf.matmul(fc1, weights['out']), biases['out'])\n",
    "    return out\n"
   ]
  },
  {
   "cell_type": "markdown",
   "metadata": {},
   "source": [
    "## 存储各个变量"
   ]
  },
  {
   "cell_type": "code",
   "execution_count": 9,
   "metadata": {},
   "outputs": [],
   "source": [
    "weights = {\n",
    "    'wd1': tf.Variable(tf.random_normal([784, 128])),\n",
    "    # 1024 inputs, 10 outputs (class prediction)\n",
    "    'out': tf.Variable(tf.random_normal([128, num_classes]))\n",
    "}\n",
    "\n",
    "biases = {\n",
    "    'bd1': tf.Variable(tf.zeros([128])),\n",
    "    'out': tf.Variable(tf.zeros([num_classes]))\n",
    "}\n"
   ]
  },
  {
   "cell_type": "markdown",
   "metadata": {},
   "source": [
    "# 训练和评估\n",
    "## 各个评估变量"
   ]
  },
  {
   "cell_type": "code",
   "execution_count": 10,
   "metadata": {},
   "outputs": [
    {
     "name": "stdout",
     "output_type": "stream",
     "text": [
      "WARNING:tensorflow:From <ipython-input-8-3a08ea16a4a5>:5: calling dropout (from tensorflow.python.ops.nn_ops) with keep_prob is deprecated and will be removed in a future version.\n",
      "Instructions for updating:\n",
      "Please use `rate` instead of `keep_prob`. Rate should be set to `rate = 1 - keep_prob`.\n",
      "WARNING:tensorflow:From <ipython-input-10-69ac11c75cb8>:6: softmax_cross_entropy_with_logits (from tensorflow.python.ops.nn_ops) is deprecated and will be removed in a future version.\n",
      "Instructions for updating:\n",
      "\n",
      "Future major versions of TensorFlow will allow gradients to flow\n",
      "into the labels input on backprop by default.\n",
      "\n",
      "See `tf.nn.softmax_cross_entropy_with_logits_v2`.\n",
      "\n"
     ]
    }
   ],
   "source": [
    "logits = conv_net(X, weights, biases, keep_prob)\n",
    "prediction = tf.nn.softmax(logits)\n",
    "\n",
    "# Define loss and optimizer\n",
    "loss_op = tf.reduce_mean(tf.nn.softmax_cross_entropy_with_logits(\n",
    "    logits=logits, labels=Y))\n",
    "optimizer = tf.train.AdamOptimizer(learning_rate=learning_rate)\n",
    "train_op = optimizer.minimize(loss_op)\n",
    "\n",
    "\n",
    "# Evaluate model\n",
    "correct_pred = tf.equal(tf.argmax(prediction, 1), tf.argmax(Y, 1))\n",
    "accuracy = tf.reduce_mean(tf.cast(correct_pred, tf.float32))\n"
   ]
  },
  {
   "cell_type": "markdown",
   "metadata": {},
   "source": [
    "## 训练部分"
   ]
  },
  {
   "cell_type": "code",
   "execution_count": 11,
   "metadata": {},
   "outputs": [
    {
     "name": "stdout",
     "output_type": "stream",
     "text": [
      "Step 1, Minibatch Loss= 209.0592, Training Accuracy= 0.110\n",
      "Step 100, Minibatch Loss= 115.5005, Training Accuracy= 0.170\n",
      "Step 200, Minibatch Loss= 50.3314, Training Accuracy= 0.290\n",
      "Step 300, Minibatch Loss= 30.4576, Training Accuracy= 0.350\n",
      "Step 400, Minibatch Loss= 15.8365, Training Accuracy= 0.430\n",
      "Step 500, Minibatch Loss= 6.5537, Training Accuracy= 0.620\n",
      "Step 600, Minibatch Loss= 4.9927, Training Accuracy= 0.600\n",
      "Testing Accuracy: 0.56\n",
      "Step 700, Minibatch Loss= 4.1845, Training Accuracy= 0.670\n",
      "Step 800, Minibatch Loss= 2.8545, Training Accuracy= 0.630\n",
      "Step 900, Minibatch Loss= 2.9365, Training Accuracy= 0.600\n",
      "Step 1000, Minibatch Loss= 1.8700, Training Accuracy= 0.660\n",
      "Step 1100, Minibatch Loss= 1.8474, Training Accuracy= 0.640\n",
      "Step 1200, Minibatch Loss= 0.7059, Training Accuracy= 0.730\n",
      "Testing Accuracy: 0.56\n",
      "Step 1300, Minibatch Loss= 1.3602, Training Accuracy= 0.670\n",
      "Step 1400, Minibatch Loss= 1.0577, Training Accuracy= 0.740\n",
      "Step 1500, Minibatch Loss= 0.4348, Training Accuracy= 0.870\n",
      "Step 1600, Minibatch Loss= 0.9618, Training Accuracy= 0.710\n",
      "Step 1700, Minibatch Loss= 0.6546, Training Accuracy= 0.800\n",
      "Step 1800, Minibatch Loss= 0.5792, Training Accuracy= 0.740\n",
      "Testing Accuracy: 0.54\n",
      "Step 1900, Minibatch Loss= 0.5280, Training Accuracy= 0.790\n",
      "Step 2000, Minibatch Loss= 0.5079, Training Accuracy= 0.800\n",
      "Step 2100, Minibatch Loss= 0.4910, Training Accuracy= 0.820\n",
      "Step 2200, Minibatch Loss= 0.4437, Training Accuracy= 0.830\n",
      "Step 2300, Minibatch Loss= 0.7004, Training Accuracy= 0.790\n",
      "Step 2400, Minibatch Loss= 0.6908, Training Accuracy= 0.680\n",
      "Testing Accuracy: 0.53\n",
      "Step 2500, Minibatch Loss= 0.5552, Training Accuracy= 0.770\n",
      "Step 2600, Minibatch Loss= 0.4417, Training Accuracy= 0.800\n",
      "Step 2700, Minibatch Loss= 0.4453, Training Accuracy= 0.790\n",
      "Step 2800, Minibatch Loss= 0.5534, Training Accuracy= 0.760\n",
      "Step 2900, Minibatch Loss= 0.4467, Training Accuracy= 0.830\n",
      "Step 3000, Minibatch Loss= 0.4724, Training Accuracy= 0.750\n",
      "Testing Accuracy: 0.54\n",
      "Optimization Finished!\n",
      "Testing Accuracy: 0.5499\n"
     ]
    }
   ],
   "source": [
    "init = tf.global_variables_initializer()\n",
    "\n",
    "# Start training\n",
    "with tf.Session() as sess:\n",
    "\n",
    "    # Run the initializer\n",
    "    sess.run(init)\n",
    "\n",
    "    for step in range(1, num_steps+1):\n",
    "        batch_x, batch_y = next(train_generator(batch_size))\n",
    "        # Run optimization op (backprop)\n",
    "        sess.run(train_op, feed_dict={X: batch_x, Y: batch_y, keep_prob: 0.2})\n",
    "        if step % display_step == 0 or step == 1:\n",
    "            # Calculate batch loss and accuracy\n",
    "            loss, acc = sess.run([loss_op, accuracy], feed_dict={X: batch_x,\n",
    "                                                                 Y: batch_y,\n",
    "                                                                 keep_prob: 0.2})\n",
    "            print(\"Step \" + str(step) + \", Minibatch Loss= \" + \\\n",
    "                  \"{:.4f}\".format(loss) + \", Training Accuracy= \" + \\\n",
    "                  \"{:.3f}\".format(acc))\n",
    "        if step % validation_step == 0:\n",
    "            print(\"Testing Accuracy:\", \\\n",
    "                    sess.run(accuracy, feed_dict={X: x_test[:batch_size,:],\n",
    "                        Y: y_test[:batch_size],\n",
    "                                              keep_prob: 1.0}))\n",
    "    print(\"Optimization Finished!\")\n",
    "\n",
    "    # Calculate accuracy for 256 MNIST test images\n",
    "    print(\"Testing Accuracy:\", \\\n",
    "            sess.run(accuracy, feed_dict={X: x_test,\n",
    "                Y: y_test,\n",
    "                                      keep_prob: 1.0}))\n"
   ]
  },
  {
   "cell_type": "code",
   "execution_count": null,
   "metadata": {},
   "outputs": [],
   "source": []
  }
 ],
 "metadata": {
  "anaconda-cloud": {},
  "kernelspec": {
   "display_name": "Python [default]",
   "language": "python",
   "name": "python3"
  },
  "language_info": {
   "codemirror_mode": {
    "name": "ipython",
    "version": 3
   },
   "file_extension": ".py",
   "mimetype": "text/x-python",
   "name": "python",
   "nbconvert_exporter": "python",
   "pygments_lexer": "ipython3",
   "version": "3.5.2"
  }
 },
 "nbformat": 4,
 "nbformat_minor": 4
}
