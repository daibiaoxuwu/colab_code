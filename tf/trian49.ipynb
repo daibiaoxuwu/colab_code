{
  "nbformat": 4,
  "nbformat_minor": 0,
  "metadata": {
    "accelerator": "GPU",
    "anaconda-cloud": {},
    "colab": {
      "name": "trian4.ipynb",
      "provenance": [],
      "private_outputs": true,
      "collapsed_sections": []
    },
    "kernelspec": {
      "display_name": "Python [default]",
      "language": "python",
      "name": "python3"
    },
    "language_info": {
      "codemirror_mode": {
        "name": "ipython",
        "version": 3
      },
      "file_extension": ".py",
      "mimetype": "text/x-python",
      "name": "python",
      "nbconvert_exporter": "python",
      "pygments_lexer": "ipython3",
      "version": "3.5.2"
    }
  },
  "cells": [
    {
      "cell_type": "markdown",
      "metadata": {
        "colab_type": "text",
        "id": "3wF5wszaj97Y"
      },
      "source": [
        "# 以相似度为训练目标"
      ]
    },
    {
      "cell_type": "markdown",
      "metadata": {
        "colab_type": "text",
        "id": "nnrWf3PCEzXL"
      },
      "source": [
        "## 生成训练数据，暂存于本地"
      ]
    },
    {
      "cell_type": "code",
      "metadata": {
        "colab_type": "code",
        "id": "7aFIIQdwvPPM",
        "colab": {}
      },
      "source": [
        "!git clone https://github.com/daibiaoxuwu/05wan3"
      ],
      "execution_count": 0,
      "outputs": []
    },
    {
      "cell_type": "code",
      "metadata": {
        "colab_type": "code",
        "id": "fy2cDLkWvrvl",
        "colab": {}
      },
      "source": [
        "!git clone https://github.com/daibiaoxuwu/05wan3b"
      ],
      "execution_count": 0,
      "outputs": []
    },
    {
      "cell_type": "code",
      "metadata": {
        "colab_type": "code",
        "id": "gtgz-INDwsA2",
        "colab": {}
      },
      "source": [
        "import os\n",
        "import cv2\n",
        "import numpy as np\n",
        "import random\n",
        "path1 = '05wan3'\n",
        "path2 = '05wan3b/0'\n",
        "\n",
        "clocks = dict()\n",
        "x_train0 = []\n",
        "y_train0 = []\n",
        "for filename in os.listdir(path2):\n",
        "    if 'git' in filename: continue\n",
        "    #print(path1)\n",
        "    #ftimestr,number = path1.split('_')\n",
        "    clocks[int(filename.split('_')[0])]=int(filename.split('_')[1][:-4])\n",
        "    #clocks[int(ftimestr)]=int(number)\n",
        "keys = clocks.keys()\n",
        "filelist = os.listdir(path1)\n",
        "random.shuffle(filelist)\n",
        "for filename in filelist:\n",
        "    if 'git' in filename or 'c.jpg' in filename: continue\n",
        "    ftime = int(filename.split('_')[0])\n",
        "    value = max(filter(lambda t:t<ftime,keys))\n",
        "    x_train0.append(cv2.imread(os.path.join(path1,filename), cv2.IMREAD_GRAYSCALE)/255.0)\n",
        "    y_train0.append(clocks[value])\n",
        "    \n",
        "print(len(x_train0),len(y_train0))\n",
        "\n",
        "l = int(len(x_train0)*0.8)\n",
        "x_train = x_train0[:l]\n",
        "y_train = y_train0[:l]\n",
        "x_test = x_train0[l:]\n",
        "y_test = y_train0[l:]"
      ],
      "execution_count": 0,
      "outputs": []
    },
    {
      "cell_type": "markdown",
      "metadata": {
        "colab_type": "text",
        "id": "-lmz0keARk85"
      },
      "source": [
        "# 转为onehot，分离test和train"
      ]
    },
    {
      "cell_type": "markdown",
      "metadata": {
        "colab_type": "text",
        "id": "VBl_86rWRk9F"
      },
      "source": [
        "# 装载Tensorflow"
      ]
    },
    {
      "cell_type": "code",
      "metadata": {
        "colab_type": "code",
        "id": "0trJmd6DjqBZ",
        "colab": {}
      },
      "source": [
        "from __future__ import absolute_import, division, print_function, unicode_literals\n",
        "\n",
        "# 安装 TensorFlow\n",
        "try:\n",
        "  # Colab only\n",
        "  %tensorflow_version 2.x\n",
        "except Exception:\n",
        "    pass\n",
        "\n",
        "import tensorflow as tf"
      ],
      "execution_count": 0,
      "outputs": []
    },
    {
      "cell_type": "markdown",
      "metadata": {
        "colab_type": "text",
        "id": "8JqmdPzmRk9Q"
      },
      "source": [
        "# 输入数据生成器\n",
        "# 变为5张图片一叠"
      ]
    },
    {
      "cell_type": "code",
      "metadata": {
        "colab_type": "code",
        "id": "si3oM-1kaAZf",
        "colab": {}
      },
      "source": [
        "idxes = []\n",
        "for i in range(10):idxes.append([])\n",
        "for idx, val in enumerate(y_train):\n",
        "  idxes[val].append(idx)\n",
        "\n",
        "idxes_test = []\n",
        "for i in range(10):idxes_test.append([])\n",
        "for idx, val in enumerate(y_test):\n",
        "  idxes_test[val].append(idx) "
      ],
      "execution_count": 0,
      "outputs": []
    },
    {
      "cell_type": "markdown",
      "metadata": {
        "colab_type": "text",
        "id": "6GlHEnVJfA2D"
      },
      "source": [
        "# 搭建训练数据"
      ]
    },
    {
      "cell_type": "markdown",
      "metadata": {
        "colab_type": "text",
        "id": "ASxEhVGMgMLD"
      },
      "source": [
        "## 搭建Overfit数据：只有十叠按序的照片"
      ]
    },
    {
      "cell_type": "code",
      "metadata": {
        "colab_type": "code",
        "id": "-sH-e0ceeRol",
        "colab": {}
      },
      "source": [
        "picnum = 5\n",
        "import random\n",
        "def train_generator():\n",
        "  while True:\n",
        "    dataout = []\n",
        "    for i in range(5):dataout.append([])\n",
        "    ansout = np.zeros((100,))\n",
        "    for train2 in range(100):\n",
        "      ans = random.randint(0,9)\n",
        "      idx2 = random.sample(idxes[ans],5)\n",
        "      \n",
        "      #idx2 = idxes[ans][:5]\n",
        "      for i in range(5):\n",
        "        dataout[i].append(x_train[idx2[i]][:,:,np.newaxis])      \n",
        "      ansout[train2] = ans\n",
        "      #dataout.append(data)      \n",
        "    yield [np.stack(data2) for data2 in dataout],ansout \n"
      ],
      "execution_count": 0,
      "outputs": []
    },
    {
      "cell_type": "markdown",
      "metadata": {
        "id": "F0StgPrBZFyE",
        "colab_type": "text"
      },
      "source": [
        "# 验证generator"
      ]
    },
    {
      "cell_type": "code",
      "metadata": {
        "colab_type": "code",
        "id": "y5AJdENrtgnG",
        "colab": {}
      },
      "source": [
        "tx,ty = next(train_generator())\n",
        "print(tx[0].shape)\n",
        "print(ty.shape)\n",
        "import matplotlib.pyplot as plt\n",
        "for i in range(5):\n",
        "  plt.imshow(tx[0][i][:,:,0])\n",
        "  plt.show()\n",
        "  print(ty[i])"
      ],
      "execution_count": 0,
      "outputs": []
    },
    {
      "cell_type": "markdown",
      "metadata": {
        "colab_type": "text",
        "id": "VxjclcvUlLv8"
      },
      "source": [
        "\n",
        "# 搭建模型和训练\n",
        "现在的网络去掉dropout则可以拟合10张图片，\n",
        "但是加上dropout就拟合不了。\n",
        "从7张拟合5张的，则可以在两个epoch（每个epoch抽取60000次）内到80%。\n",
        "\n",
        "继续训练20张，一个epoch就到60%。"
      ]
    },
    {
      "cell_type": "code",
      "metadata": {
        "id": "-nzds-gw75MO",
        "colab_type": "code",
        "colab": {}
      },
      "source": [
        "picnum = 5\n",
        "inputs = [tf.keras.layers.Input(shape=(12,12,1))  for i in range(picnum)]\n",
        "#inputs = tf.keras.layers.Input(shape=(5,12,12,1))\n",
        "\n",
        "conv_a1 = tf.keras.layers.Conv2D(32, (3, 3), padding = 'Same',  activation='relu')\n",
        "conva1 = [conv_a1(inputs[i]) for i in range(picnum)]\n",
        "\n",
        "\n",
        "convs1 = tf.stack(conva1)\n",
        "convf1 = [\n",
        "    tf.math.reduce_max(convs1, axis=[0]),\n",
        "    tf.math.reduce_mean(convs1, axis=[0]),\n",
        "    tf.math.reduce_min(convs1, axis=[0]),\n",
        "]\n",
        "\n",
        "convh3 = tf.concat(convf1,axis=3)\n",
        "\n",
        "convx3 = tf.keras.layers.Flatten()(convh3)\n",
        "convy1 = tf.keras.layers.Dense(256,activation='relu')(convx3)\n",
        "\n",
        "#keep_prob = tf.placeholder(tf.float32) # dropout (keep probability)\n",
        "\n",
        "convy2 = tf.keras.layers.Dropout(0.5)(convy1)\n",
        "convy3 = tf.keras.layers.Dense(10,activation='softmax')(convy2)\n",
        "\n",
        "model = tf.keras.Model(inputs=inputs, outputs=convy3)"
      ],
      "execution_count": 0,
      "outputs": []
    },
    {
      "cell_type": "code",
      "metadata": {
        "colab_type": "code",
        "id": "aiXxR3CUgs3P",
        "colab": {}
      },
      "source": [
        "\n",
        "\n",
        "model.compile(optimizer='adam',\n",
        "              loss='sparse_categorical_crossentropy',\n",
        "              metrics=['accuracy'])\n",
        "model.summary()"
      ],
      "execution_count": 0,
      "outputs": []
    },
    {
      "cell_type": "markdown",
      "metadata": {
        "id": "P_V6RDoIZm5g",
        "colab_type": "text"
      },
      "source": [
        "# 搭建测试用generator"
      ]
    },
    {
      "cell_type": "code",
      "metadata": {
        "id": "1KGRDD8mZmQG",
        "colab_type": "code",
        "colab": {}
      },
      "source": [
        "\n",
        "def test_generator():\n",
        "  while True:\n",
        "    dataout = []\n",
        "    for i in range(5):dataout.append([])\n",
        "    ansout = np.zeros((100,))\n",
        "    for train2 in range(100):\n",
        "      ans = random.randint(0,9)\n",
        "      idx2 = random.sample(idxes_test[ans],5)\n",
        "      \n",
        "      #idx2 = idxes[ans][:5]\n",
        "      for i in range(5):\n",
        "        dataout[i].append(x_test[idx2[i]][:,:,np.newaxis])      \n",
        "      ansout[train2] = ans\n",
        "      #dataout.append(data)      \n",
        "    #print('ans:',ans)  \n",
        "    yield [np.stack(data2) for data2 in dataout],ansout "
      ],
      "execution_count": 0,
      "outputs": []
    },
    {
      "cell_type": "markdown",
      "metadata": {
        "id": "qMByUd_CZrg8",
        "colab_type": "text"
      },
      "source": [
        "# 开始训练"
      ]
    },
    {
      "cell_type": "code",
      "metadata": {
        "id": "9qeXrdtDT41r",
        "colab_type": "code",
        "colab": {}
      },
      "source": [
        "model.fit_generator(train_generator(),epochs=100,steps_per_epoch=600,validation_data=test_generator(),validation_steps=10)"
      ],
      "execution_count": 0,
      "outputs": []
    },
    {
      "cell_type": "markdown",
      "metadata": {
        "id": "2FDL6IYRQtz9",
        "colab_type": "text"
      },
      "source": [
        "# 测试正确率"
      ]
    },
    {
      "cell_type": "code",
      "metadata": {
        "id": "WekVFBD0WCbz",
        "colab_type": "code",
        "colab": {}
      },
      "source": [
        "\n",
        "def pred_generator():\n",
        "    dataout = []\n",
        "    for i in range(5):dataout.append([])\n",
        "   \n",
        "    \n",
        "    ans = random.randint(0,9)\n",
        "    idx2 = random.sample(idxes_test[ans],5)\n",
        "    \n",
        "    #idx2 = idxes[ans][:5]\n",
        "    for i in range(5):\n",
        "      plt.imshow(x_test[idx2[i]],cmap='gray')\n",
        "      plt.show()\n",
        "      dataout[i].append(x_test[idx2[i]][:,:,np.newaxis])      \n",
        "    \n",
        "    #dataout.append(data)      \n",
        "    print('ans:',ans)  \n",
        "    \n",
        "    yield [np.stack(data2) for data2 in dataout],ans"
      ],
      "execution_count": 0,
      "outputs": []
    },
    {
      "cell_type": "code",
      "metadata": {
        "id": "XXCDi_huQw87",
        "colab_type": "code",
        "colab": {}
      },
      "source": [
        "\n",
        "#model.evaluate_generator(test_generator())"
      ],
      "execution_count": 0,
      "outputs": []
    },
    {
      "cell_type": "code",
      "metadata": {
        "id": "CYAoaHehVrZU",
        "colab_type": "code",
        "colab": {}
      },
      "source": [
        "model.predict(pred_generator())"
      ],
      "execution_count": 0,
      "outputs": []
    }
  ]
}