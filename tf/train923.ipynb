{
  "nbformat": 4,
  "nbformat_minor": 0,
  "metadata": {
    "accelerator": "GPU",
    "anaconda-cloud": {},
    "colab": {
      "name": "train910.ipynb",
      "provenance": [],
      "collapsed_sections": []
    },
    "kernelspec": {
      "name": "python3",
      "display_name": "Python 3"
    },
    "language_info": {
      "codemirror_mode": {
        "name": "ipython",
        "version": 3
      },
      "file_extension": ".py",
      "mimetype": "text/x-python",
      "name": "python",
      "nbconvert_exporter": "python",
      "pygments_lexer": "ipython3",
      "version": "3.5.2"
    }
  },
  "cells": [
    {
      "cell_type": "markdown",
      "metadata": {
        "colab_type": "text",
        "id": "3wF5wszaj97Y"
      },
      "source": [
        "# 以相似度为训练目标"
      ]
    },
    {
      "cell_type": "code",
      "metadata": {
        "id": "XvbeBFq24MoG",
        "colab_type": "code",
        "outputId": "79df965e-6f07-4f52-9f4b-4b691714d05b",
        "colab": {
          "base_uri": "https://localhost:8080/",
          "height": 126
        }
      },
      "source": [
        "from google.colab import drive\n",
        "drive.mount('/content/drive')"
      ],
      "execution_count": 1,
      "outputs": [
        {
          "output_type": "stream",
          "text": [
            "Go to this URL in a browser: https://accounts.google.com/o/oauth2/auth?client_id=947318989803-6bn6qk8qdgf4n4g3pfee6491hc0brc4i.apps.googleusercontent.com&redirect_uri=urn%3aietf%3awg%3aoauth%3a2.0%3aoob&response_type=code&scope=email%20https%3a%2f%2fwww.googleapis.com%2fauth%2fdocs.test%20https%3a%2f%2fwww.googleapis.com%2fauth%2fdrive%20https%3a%2f%2fwww.googleapis.com%2fauth%2fdrive.photos.readonly%20https%3a%2f%2fwww.googleapis.com%2fauth%2fpeopleapi.readonly\n",
            "\n",
            "Enter your authorization code:\n",
            "··········\n",
            "Mounted at /content/drive\n"
          ],
          "name": "stdout"
        }
      ]
    },
    {
      "cell_type": "markdown",
      "metadata": {
        "colab_type": "text",
        "id": "nnrWf3PCEzXL"
      },
      "source": [
        "## 训练数据生成器"
      ]
    },
    {
      "cell_type": "code",
      "metadata": {
        "id": "Ez32DOYVjHFU",
        "colab_type": "code",
        "outputId": "d3ed8d75-c3ea-426d-f837-63305b75371c",
        "colab": {
          "base_uri": "https://localhost:8080/",
          "height": 266
        }
      },
      "source": [
        "!git clone https://github.com/daibiaoxuwu/323\n",
        "!git clone https://github.com/daibiaoxuwu/323b\n"
      ],
      "execution_count": 2,
      "outputs": [
        {
          "output_type": "stream",
          "text": [
            "Cloning into '323'...\n",
            "remote: Enumerating objects: 49980, done.\u001b[K\n",
            "remote: Counting objects:   0% (1/49980)\u001b[K\rremote: Counting objects:   1% (500/49980)\u001b[K\rremote: Counting objects:   2% (1000/49980)\u001b[K\rremote: Counting objects:   3% (1500/49980)\u001b[K\rremote: Counting objects:   4% (2000/49980)\u001b[K\rremote: Counting objects:   5% (2499/49980)\u001b[K\rremote: Counting objects:   6% (2999/49980)\u001b[K\rremote: Counting objects:   7% (3499/49980)\u001b[K\rremote: Counting objects:   8% (3999/49980)\u001b[K\rremote: Counting objects:   9% (4499/49980)\u001b[K\rremote: Counting objects:  10% (4998/49980)\u001b[K\rremote: Counting objects:  11% (5498/49980)\u001b[K\rremote: Counting objects:  12% (5998/49980)\u001b[K\rremote: Counting objects:  13% (6498/49980)\u001b[K\rremote: Counting objects:  14% (6998/49980)\u001b[K\rremote: Counting objects:  15% (7497/49980)\u001b[K\rremote: Counting objects:  16% (7997/49980)\u001b[K\rremote: Counting objects:  17% (8497/49980)\u001b[K\rremote: Counting objects:  18% (8997/49980)\u001b[K\rremote: Counting objects:  19% (9497/49980)\u001b[K\rremote: Counting objects:  20% (9996/49980)\u001b[K\rremote: Counting objects:  21% (10496/49980)\u001b[K\rremote: Counting objects:  22% (10996/49980)\u001b[K\rremote: Counting objects:  23% (11496/49980)\u001b[K\rremote: Counting objects:  24% (11996/49980)\u001b[K\rremote: Counting objects:  25% (12495/49980)\u001b[K\rremote: Counting objects:  26% (12995/49980)\u001b[K\rremote: Counting objects:  27% (13495/49980)\u001b[K\rremote: Counting objects:  28% (13995/49980)\u001b[K\rremote: Counting objects:  29% (14495/49980)\u001b[K\rremote: Counting objects:  30% (14994/49980)\u001b[K\rremote: Counting objects:  31% (15494/49980)\u001b[K\rremote: Counting objects:  32% (15994/49980)\u001b[K\rremote: Counting objects:  33% (16494/49980)\u001b[K\rremote: Counting objects:  34% (16994/49980)\u001b[K\rremote: Counting objects:  35% (17493/49980)\u001b[K\rremote: Counting objects:  36% (17993/49980)\u001b[K\rremote: Counting objects:  37% (18493/49980)\u001b[K\rremote: Counting objects:  38% (18993/49980)\u001b[K\rremote: Counting objects:  39% (19493/49980)\u001b[K\rremote: Counting objects:  40% (19992/49980)\u001b[K\rremote: Counting objects:  41% (20492/49980)\u001b[K\rremote: Counting objects:  42% (20992/49980)\u001b[K\rremote: Counting objects:  43% (21492/49980)\u001b[K\rremote: Counting objects:  44% (21992/49980)\u001b[K\rremote: Counting objects:  45% (22491/49980)\u001b[K\rremote: Counting objects:  46% (22991/49980)\u001b[K\rremote: Counting objects:  47% (23491/49980)\u001b[K\rremote: Counting objects:  48% (23991/49980)\u001b[K\rremote: Counting objects:  49% (24491/49980)\u001b[K\rremote: Counting objects:  50% (24990/49980)\u001b[K\rremote: Counting objects:  51% (25490/49980)\u001b[K\rremote: Counting objects:  52% (25990/49980)\u001b[K\rremote: Counting objects:  53% (26490/49980)\u001b[K\rremote: Counting objects:  54% (26990/49980)\u001b[K\rremote: Counting objects:  55% (27489/49980)\u001b[K\rremote: Counting objects:  56% (27989/49980)\u001b[K\rremote: Counting objects:  57% (28489/49980)\u001b[K\rremote: Counting objects:  58% (28989/49980)\u001b[K\rremote: Counting objects:  59% (29489/49980)\u001b[K\rremote: Counting objects:  60% (29988/49980)\u001b[K\rremote: Counting objects:  61% (30488/49980)\u001b[K\rremote: Counting objects:  62% (30988/49980)\u001b[K\rremote: Counting objects:  63% (31488/49980)\u001b[K\rremote: Counting objects:  64% (31988/49980)\u001b[K\rremote: Counting objects:  65% (32487/49980)\u001b[K\rremote: Counting objects:  66% (32987/49980)\u001b[K\rremote: Counting objects:  67% (33487/49980)\u001b[K\rremote: Counting objects:  68% (33987/49980)\u001b[K\rremote: Counting objects:  69% (34487/49980)\u001b[K\rremote: Counting objects:  70% (34986/49980)\u001b[K\rremote: Counting objects:  71% (35486/49980)\u001b[K\rremote: Counting objects:  72% (35986/49980)\u001b[K\rremote: Counting objects:  73% (36486/49980)\u001b[K\rremote: Counting objects:  74% (36986/49980)\u001b[K\rremote: Counting objects:  75% (37485/49980)\u001b[K\rremote: Counting objects:  76% (37985/49980)\u001b[K\rremote: Counting objects:  77% (38485/49980)\u001b[K\rremote: Counting objects:  78% (38985/49980)\u001b[K\rremote: Counting objects:  79% (39485/49980)\u001b[K\rremote: Counting objects:  80% (39984/49980)\u001b[K\rremote: Counting objects:  81% (40484/49980)\u001b[K\rremote: Counting objects:  82% (40984/49980)\u001b[K\rremote: Counting objects:  83% (41484/49980)\u001b[K\rremote: Counting objects:  84% (41984/49980)\u001b[K\rremote: Counting objects:  85% (42483/49980)\u001b[K\rremote: Counting objects:  86% (42983/49980)\u001b[K\rremote: Counting objects:  87% (43483/49980)\u001b[K\rremote: Counting objects:  88% (43983/49980)\u001b[K\rremote: Counting objects:  89% (44483/49980)\u001b[K\rremote: Counting objects:  90% (44982/49980)\u001b[K\rremote: Counting objects:  91% (45482/49980)\u001b[K\rremote: Counting objects:  92% (45982/49980)\u001b[K\rremote: Counting objects:  93% (46482/49980)\u001b[K\rremote: Counting objects:  94% (46982/49980)\u001b[K\rremote: Counting objects:  95% (47481/49980)\u001b[K\rremote: Counting objects:  96% (47981/49980)\u001b[K\rremote: Counting objects:  97% (48481/49980)\u001b[K\rremote: Counting objects:  98% (48981/49980)\u001b[K\rremote: Counting objects:  99% (49481/49980)\u001b[K\rremote: Counting objects: 100% (49980/49980)\u001b[K\rremote: Counting objects: 100% (49980/49980), done.\u001b[K\n",
            "remote: Compressing objects: 100% (7/7), done.\u001b[K\n",
            "remote: Total 49980 (delta 49973), reused 49980 (delta 49973), pack-reused 0\n",
            "Receiving objects: 100% (49980/49980), 19.63 MiB | 49.03 MiB/s, done.\n",
            "Resolving deltas: 100% (49973/49973), done.\n",
            "Checking out files: 100% (49978/49978), done.\n",
            "Cloning into '323b'...\n",
            "remote: Enumerating objects: 294, done.\u001b[K\n",
            "remote: Counting objects: 100% (294/294), done.\u001b[K\n",
            "remote: Compressing objects: 100% (294/294), done.\u001b[K\n",
            "remote: Total 294 (delta 0), reused 294 (delta 0), pack-reused 0\u001b[K\n",
            "Receiving objects: 100% (294/294), 1.73 MiB | 5.37 MiB/s, done.\n"
          ],
          "name": "stdout"
        }
      ]
    },
    {
      "cell_type": "code",
      "metadata": {
        "colab_type": "code",
        "id": "7aFIIQdwvPPM",
        "colab": {}
      },
      "source": [
        "import os\n",
        "import cv2\n",
        "import numpy as np\n",
        "import random\n",
        "from matplotlib import pyplot as plt\n",
        "\n",
        "datasizex = 9\n",
        "datasizey = 9\n",
        "picnum = 30\n",
        "lowpercent = 125.0\n",
        "highpercent = 233.0\n",
        "enhance = 4\n",
        "def read_data(path1,path2):\n",
        "\n",
        "  x_train0 = []\n",
        "  y_train0 = dict()\n",
        "  idxes = dict()\n",
        "\n",
        "  #read clock\n",
        "  #read and /255\n",
        "  for filename in os.listdir(path2):\n",
        "      if 'git' in filename: continue\n",
        "      ans = cv2.imread(os.path.join(path2,filename),cv2.IMREAD_GRAYSCALE).astype('float32')     \n",
        "      ans = np.clip((ans-lowpercent)/(highpercent - lowpercent),0,1)\n",
        "      y_train0[int(filename[:-4])]=ans\n",
        "\n",
        "  keys = list(y_train0.keys())\n",
        "  \n",
        "  #read data\n",
        "  #add an axis and /255\n",
        "  \n",
        "  filelist = os.listdir(path1)\n",
        "  random.shuffle(filelist)\n",
        "  index = 0\n",
        "  for filename in filelist:\n",
        "      if 'git' in filename or 'c.jpg' in filename: continue\n",
        "      ##################################\n",
        "      ##################################\n",
        "      ##################################\n",
        "      ##################################\n",
        "      ##################################\n",
        "      ftime = int(filename.split('_')[0])\n",
        "      ##################################\n",
        "      ##################################\n",
        "      ##################################\n",
        "      ##################################\n",
        "      ##################################\n",
        "      value = max(filter(lambda t:t<ftime,keys))\n",
        "      if(abs(ftime-value)<3000):continue\n",
        "\n",
        "      x_train0.append(cv2.imread(os.path.join(path1,filename)).astype('float32')/255.0)\n",
        "      if value not in idxes:idxes[value]=[index]\n",
        "      else: idxes[value].append(index)\n",
        "      index += 1\n",
        "\n",
        "  #index data\n",
        "  print(len(x_train0),index,len(y_train0),len(idxes.keys()))\n",
        "  lens = [len(i) for i in idxes.values()]\n",
        "  print(min(lens),max(lens),np.average(lens))\n",
        "  for key,val in list(idxes.items()):\n",
        "    if len(val)<picnum:\n",
        "      idxes.pop(key)\n",
        "  \n",
        "\n",
        "  #generator\n",
        "  def data_generator(ikeys_t):\n",
        "    picsizex = x_train0[0].shape[0]\n",
        "    picsizey = x_train0[0].shape[1]\n",
        "    while True:\n",
        "      dataout = []\n",
        "      for i in range(picnum):dataout.append([])\n",
        "      ansout = []\n",
        "      for train2 in range(32):\n",
        "        '''\n",
        "        while True:\n",
        "          key = random.choice(ikeys_t)\n",
        "          idx2 = random.sample(idxes[key],picnum)\n",
        "          posx = random.randint(0,picsizex-datasizex)\n",
        "          posy = random.randint(0,picsizey-datasizey)\n",
        "          pic = x_train0[idx2[i]][posx:posx+datasizex,posy:posy+datasizey,:]\n",
        "          if(np.sum(pic) < 175):\n",
        "            for i in range(picnum):\n",
        "              dataout[i].append(x_train0[idx2[i]][posx:posx+datasizex,posy:posy+datasizey,:])\n",
        "            ansout.append(y_train0[key][posx:posx+datasizex,posy:posy+datasizey])\n",
        "            break\n",
        "        '''\n",
        "        key = random.choice(ikeys_t)\n",
        "        idx2 = random.sample(idxes[key],picnum)\n",
        "        posx = random.randint(0,picsizex-datasizex)\n",
        "        posy = random.randint(0,picsizey-datasizey)\n",
        "        pic = x_train0[idx2[i]][posx:posx+datasizex,posy:posy+datasizey,:]\n",
        "        for i in range(picnum):\n",
        "          dataout[i].append(x_train0[idx2[i]][posx:posx+datasizex,posy:posy+datasizey,:])\n",
        "        ansout.append(y_train0[key][posx*enhance:(posx+datasizex)*enhance,posy*enhance:(posy+datasizey)*enhance])\n",
        "      yield [np.stack(data2) for data2 in dataout],np.stack(ansout)\n",
        "  def pic_generator(ikeys_t):\n",
        "    while True:\n",
        "      key = random.choice(ikeys_t)\n",
        "      idx2 = random.sample(idxes[key],picnum)\n",
        "      data=[x_train0[i] for i in idx2]\n",
        "      ans=y_train0[key]\n",
        "      yield data,ans\n",
        "\n",
        "  #split\n",
        "  ikeys = list(idxes.keys())\n",
        "  random.shuffle(ikeys)\n",
        "  ltrain = int(len(ikeys)*0.8)  \n",
        "  train_generator = data_generator(ikeys[:ltrain])\n",
        "  test_generator = data_generator(ikeys[ltrain:])\n",
        "  train_pic_generator = pic_generator(ikeys[:ltrain])\n",
        "  test_pic_generator = pic_generator(ikeys[ltrain:])\n",
        "\n",
        "  return train_generator,test_generator,train_pic_generator,test_pic_generator\n",
        "\n"
      ],
      "execution_count": 0,
      "outputs": []
    },
    {
      "cell_type": "code",
      "metadata": {
        "id": "FfnEhjCTpreR",
        "colab_type": "code",
        "outputId": "7d73ec2b-0dd3-4c5d-f81f-f1e781018c86",
        "colab": {
          "base_uri": "https://localhost:8080/",
          "height": 52
        }
      },
      "source": [
        "\n",
        "from matplotlib import pyplot as plt\n",
        "train_generator,test_generator,train_pic_generator,test_pic_generator = read_data('323','323b')\n"
      ],
      "execution_count": 5,
      "outputs": [
        {
          "output_type": "stream",
          "text": [
            "47461 47461 292 261\n",
            "72 210 181.84291187739464\n"
          ],
          "name": "stdout"
        }
      ]
    },
    {
      "cell_type": "code",
      "metadata": {
        "id": "16T8NTH7IsZH",
        "colab_type": "code",
        "outputId": "e7eb9577-9773-44e3-83d3-6ec80142dbc3",
        "colab": {
          "base_uri": "https://localhost:8080/",
          "height": 356
        }
      },
      "source": [
        "data,ans = next(train_generator)\n",
        "for pics in data:\n",
        "  for i in range(6):\n",
        "    plt.subplot(231+i)\n",
        "    plt.imshow(pics[i,:,:,0],cmap='gray')\n",
        "ans[0,0,0]=0\n",
        "ans[0,1,0]=1\n",
        "plt.imshow(ans[0],cmap='gray')\n",
        "print(np.sum(ans[0]))\n",
        "print(np.min(ans[0]),np.max(ans[0]))"
      ],
      "execution_count": 6,
      "outputs": [
        {
          "output_type": "stream",
          "text": [
            "/usr/local/lib/python3.6/dist-packages/ipykernel_launcher.py:4: MatplotlibDeprecationWarning: Adding an axes using the same arguments as a previous axes currently reuses the earlier instance.  In a future version, a new instance will always be created and returned.  Meanwhile, this warning can be suppressed, and the future behavior ensured, by passing a unique label to each axes instance.\n",
            "  after removing the cwd from sys.path.\n"
          ],
          "name": "stderr"
        },
        {
          "output_type": "stream",
          "text": [
            "1083.8889\n",
            "0.0 1.0\n"
          ],
          "name": "stdout"
        },
        {
          "output_type": "display_data",
          "data": {
            "image/png": "[encoded data removed]",
            "text/plain": [
              "<Figure size 432x288 with 6 Axes>"
            ]
          },
          "metadata": {
            "tags": []
          }
        }
      ]
    },
    {
      "cell_type": "markdown",
      "metadata": {
        "colab_type": "text",
        "id": "-lmz0keARk85"
      },
      "source": [
        "# 数据初始化完成。\n"
      ]
    },
    {
      "cell_type": "markdown",
      "metadata": {
        "colab_type": "text",
        "id": "VBl_86rWRk9F"
      },
      "source": [
        "# 装载Tensorflow"
      ]
    },
    {
      "cell_type": "code",
      "metadata": {
        "colab_type": "code",
        "id": "0trJmd6DjqBZ",
        "outputId": "96b9f8db-e41a-4279-918b-9927a47fc575",
        "colab": {
          "base_uri": "https://localhost:8080/",
          "height": 35
        }
      },
      "source": [
        "\n",
        "from __future__ import absolute_import, division, print_function, unicode_literals\n",
        "\n",
        "# 安装 TensorFlow\n",
        "try:\n",
        "  # Colab only\n",
        "  %tensorflow_version 2.x\n",
        "except Exception:\n",
        "    pass\n",
        "\n",
        "import tensorflow as tf"
      ],
      "execution_count": 7,
      "outputs": [
        {
          "output_type": "stream",
          "text": [
            "TensorFlow 2.x selected.\n"
          ],
          "name": "stdout"
        }
      ]
    },
    {
      "cell_type": "markdown",
      "metadata": {
        "colab_type": "text",
        "id": "VxjclcvUlLv8"
      },
      "source": [
        "\n",
        "# 搭建模型和训练\n",
        "现在的网络去掉dropout则可以拟合10张图片，\n",
        "但是加上dropout就拟合不了。\n",
        "从7张拟合5张的，则可以在两个epoch（每个epoch抽取60000次）内到80%。\n",
        "\n",
        "继续训练20张，一个epoch就到60%。"
      ]
    },
    {
      "cell_type": "code",
      "metadata": {
        "id": "-nzds-gw75MO",
        "colab_type": "code",
        "colab": {}
      },
      "source": [
        "inputs = [tf.keras.layers.Input(shape=(datasizex,datasizey,3))  for i in range(picnum)]\n",
        "#inputs = tf.keras.layers.Input(shape=(5,12,12,1))\n",
        "convg1 = 0\n",
        "convd1 = 0\n",
        "convh1 = inputs\n",
        "inputs_big = inputs\n",
        "for layernum in range(8):\n",
        "  conv_a1 = tf.keras.layers.Conv2D(32, (3, 3), padding = 'Same',  activation='relu')\n",
        "  conva1 = [conv_a1(convh1[i]) for i in range(picnum)]\n",
        "  #drop_a1 = tf.keras.layers.Dropout(0.2)\n",
        "  #conva1 = drop_a1(conva1)\n",
        "  conv_b1 = tf.keras.layers.Conv2D(32, (3, 3), padding = 'Same',  activation='relu')\n",
        "  convb1 = [conv_b1(conva1[i]) for i in range(picnum)]\n",
        "  \n",
        "\n",
        "  conv_c1 = tf.keras.layers.Conv2D(32, (3, 3), padding = 'Same',  activation='relu')\n",
        "  convc1 = [conv_c1(inputs_big[i]) for i in range(picnum)]\n",
        "  #drop_b1 = tf.keras.layers.Dropout(0.2)\n",
        "  #convc1 = drop_a1(convc1)\n",
        "  conv_d1 = tf.keras.layers.Conv2D(32, (3, 3), padding = 'Same',  activation='relu')\n",
        "  convd1 = [conv_d1(convc1[i]) for i in range(picnum)]\n",
        "  \n",
        "\n",
        "  convs1 = tf.stack(convb1)\n",
        "  convf1 = [\n",
        "      tf.math.reduce_max(convs1, axis=[0]),\n",
        "      tf.math.reduce_mean(convs1, axis=[0]),\n",
        "      tf.math.reduce_min(convs1, axis=[0]),\n",
        "  ]\n",
        "\n",
        "  conv_g1 = tf.keras.layers.Conv2D(32, (3, 3), padding = 'Same',  activation='relu')\n",
        "  convg1 = [conv_g1(convf1[i]) for i in range(3)]\n",
        "\n",
        "  drop_c1 = tf.keras.layers.Dropout(0.2)\n",
        "  convh1 = [drop_c1(tf.concat(convg1+[convd1[i]],axis=3)) for i in range(picnum)]\n",
        "  if(layernum % 3 == 2):\n",
        "    convex1 = tf.keras.layers.Conv2D(32, (1, 1), padding = 'Same',  activation='relu')\n",
        "    convh1 = [tf.keras.layers.UpSampling2D(size=(2, 2), data_format=None)(i) for i in convh1]\n",
        "    convh1 = [convex1(convh1[i]) for i in range(picnum)]\n",
        "    inputs_big = [tf.keras.layers.UpSampling2D(size=(2, 2), data_format=None)(i) for i in inputs_big]\n",
        "convh3 = tf.concat(convg1+convd1,axis=3)\n",
        "\n",
        "convx1 = tf.keras.layers.Conv2D(64, (3, 3), padding = 'Same',  activation='relu')(convh3)\n",
        "convx2 = tf.keras.layers.Dropout(0.2)(convx1)\n",
        "convx3 = tf.keras.layers.Conv2D(64, (3, 3), padding = 'Same', activation='relu')(convx2)\n",
        "'''\n",
        "convx3 = tf.keras.layers.Flatten()(convx2)\n",
        "\n",
        "#keep_prob = tf.placeholder(tf.float32) # dropout (keep probability)\n",
        "convx4 = tf.keras.layers.Dropout(0.2)(convx3)\n",
        "\n",
        "convy1 = tf.keras.layers.Dense(21*45)(convx4)\n",
        "#convy3 = tf.keras.layers.Dense(10,activation='softmax')(convy1)\n",
        "convy4 = tf.keras.layers.Reshape([21,45])(convy1)\n",
        "'''\n",
        "\n",
        "convx4 = tf.keras.layers.Conv2D(1, (3, 3), padding = 'Same')(convx3)\n",
        "\n",
        "model = tf.keras.Model(inputs=inputs, outputs=convx4)\n"
      ],
      "execution_count": 0,
      "outputs": []
    },
    {
      "cell_type": "code",
      "metadata": {
        "colab_type": "code",
        "id": "aiXxR3CUgs3P",
        "colab": {}
      },
      "source": [
        "#tf.reduce_mean(tf.image.ssim(reconstructed, truth, 1.0))\n",
        "model.compile(optimizer='adam',#tf.keras.optimizers.Adam(lr=0.01, beta_1=0.9, beta_2=0.999, epsilon=1e-08, decay=0.0),\n",
        "                #loss=lambda y_pred,y_true:1-tf.reduce_mean(tf.image.ssim_multiscale(tf.clip_by_value(y_pred,0,1), y_true, 255))#-tf.reduce_mean(tf.image.psnr(tf.clip_by_value(y_pred,0,1), y_true, 1.0))\n",
        "              loss='mse',\n",
        "              metrics=['mse']\n",
        "              )\n",
        "            \n",
        "#model.summary()"
      ],
      "execution_count": 0,
      "outputs": []
    },
    {
      "cell_type": "markdown",
      "metadata": {
        "id": "pLJHKWOKSBRN",
        "colab_type": "text"
      },
      "source": [
        "# 测试正确率："
      ]
    },
    {
      "cell_type": "code",
      "metadata": {
        "id": "ubLf57E7SAZc",
        "colab_type": "code",
        "colab": {}
      },
      "source": [
        "from skimage.metrics import peak_signal_noise_ratio,structural_similarity, mean_squared_error\n",
        "class show_accuracy(tf.keras.callbacks.Callback):\n",
        "  def on_epoch_end(self, epoch, logs={}):\n",
        "    if epoch % 5 == 1:\n",
        "      data,ans = next(test_generator)\n",
        "      data = [data[x][5][np.newaxis,:,:,:] for x in range(picnum)]\n",
        "      ans = ans[5]\n",
        "      import matplotlib\n",
        "      cmap = matplotlib.cm.gray \n",
        "      cmap.set_bad(color='black')\n",
        "\n",
        "      pred = model.predict(data) #shape:(1,11,11,1) because last layer is conv not dense\n",
        "      #pred = np.clip(pred,0,1)\n",
        "      #pred = (pred-np.min(pred))/(np.max(pred)-np.min(pred))\n",
        "      #pred = softmax(pred)\n",
        "      pred[0,0,0,0]=0\n",
        "      pred[0,-1,-1,0]=1\n",
        "      ans[0,0]=0\n",
        "      ans[-1,-1]=1\n",
        "      for i in range(6):\n",
        "        plt.subplot(231+i)\n",
        "        plt.imshow(data[i][0,:,:,0],cmap=cmap)\n",
        "      plt.show()\n",
        "      plt.subplot(121)\n",
        "      plt.imshow(pred[0,:,:,0],cmap=cmap)\n",
        "      plt.colorbar()\n",
        "      #ans = np.clip((ans-np.percentile(ans,10))/(np.percentile(ans,90)-np.percentile(ans,10)),0,1)\n",
        "      plt.subplot(122)\n",
        "      plt.imshow(ans,cmap=cmap)\n",
        "      plt.colorbar()\n",
        "      plt.show()\n",
        "#      print('psnr',peak_signal_noise_ratio(np.clip(pred[0,:,:,0],0,1),ans))\n",
        "#      print('ssim',structural_similarity(np.clip(pred[0,:,:,0],0,1),ans))\n",
        "      print('mse',mean_squared_error(np.clip(pred[0,:,:,0],0,1),ans))\n",
        "\n"
      ],
      "execution_count": 0,
      "outputs": []
    },
    {
      "cell_type": "markdown",
      "metadata": {
        "id": "qMByUd_CZrg8",
        "colab_type": "text"
      },
      "source": [
        "# 开始训练"
      ]
    },
    {
      "cell_type": "code",
      "metadata": {
        "id": "KRyZI58UcIRQ",
        "colab_type": "code",
        "colab": {}
      },
      "source": [
        "# Suppress some level of logs\n",
        "import logging\n",
        "logging.getLogger(\"tensorflow\").setLevel(logging.WARN)"
      ],
      "execution_count": 0,
      "outputs": []
    },
    {
      "cell_type": "code",
      "metadata": {
        "id": "W-Qp_D7tiuyb",
        "colab_type": "code",
        "colab": {}
      },
      "source": [
        "ckpt_filename = tf.train.latest_checkpoint(\"/content/drive/My Drive/checkpoints/training_15_archive\")\n",
        "print(ckpt_filename)\n",
        "model.load_weights(ckpt_filename)#,by_name=True)"
      ],
      "execution_count": 0,
      "outputs": []
    },
    {
      "cell_type": "code",
      "metadata": {
        "id": "9qeXrdtDT41r",
        "colab_type": "code",
        "colab": {}
      },
      "source": [
        "checkpoint_path = \"/content/drive/My Drive/checkpoints/training_30/cp-{epoch:02d}-{val_loss:.4f}.ckpt\"\n",
        "checkpoint_dir = os.path.dirname(checkpoint_path)\n",
        "cp_callback = tf.keras.callbacks.ModelCheckpoint(checkpoint_path,save_weights_only=True,monitor='val_loss')#,save_best_only=True,mode='min')\n",
        "show_accuracy_callback = show_accuracy()"
      ],
      "execution_count": 0,
      "outputs": []
    },
    {
      "cell_type": "code",
      "metadata": {
        "id": "gRJfYFX7HL_O",
        "colab_type": "code",
        "outputId": "d94b2901-741b-4479-f2ae-043591583bc8",
        "colab": {
          "base_uri": "https://localhost:8080/",
          "height": 524
        }
      },
      "source": [
        "show_accuracy_callback.on_epoch_end(epoch=1)"
      ],
      "execution_count": 14,
      "outputs": [
        {
          "output_type": "display_data",
          "data": {
            "image/png": "[encoded data removed]",
            "text/plain": [
              "<Figure size 432x288 with 6 Axes>"
            ]
          },
          "metadata": {
            "tags": []
          }
        },
        {
          "output_type": "display_data",
          "data": {
            "image/png": "[encoded data removed]",
            "text/plain": [
              "<Figure size 432x288 with 4 Axes>"
            ]
          },
          "metadata": {
            "tags": []
          }
        },
        {
          "output_type": "stream",
          "text": [
            "mse 0.6972382651256789\n"
          ],
          "name": "stdout"
        }
      ]
    },
    {
      "cell_type": "code",
      "metadata": {
        "id": "SeM6ybDVHDg3",
        "colab_type": "code",
        "outputId": "a10cfea0-8d76-4d92-af09-1b61fc8415c0",
        "colab": {
          "base_uri": "https://localhost:8080/",
          "height": 195
        }
      },
      "source": [
        "if True:\n",
        "  if not os.path.exists(checkpoint_dir):\n",
        "    model.fit_generator(train_generator,epochs=200,steps_per_epoch=500,validation_data=test_generator,validation_steps=50,validation_freq=1,verbose=2,callbacks=[cp_callback,show_accuracy_callback])\n"
      ],
      "execution_count": 0,
      "outputs": [
        {
          "output_type": "stream",
          "text": [
            "WARNING:tensorflow:sample_weight modes were coerced from\n",
            "  ...\n",
            "    to  \n",
            "  ['...']\n",
            "WARNING:tensorflow:sample_weight modes were coerced from\n",
            "  ...\n",
            "    to  \n",
            "  ['...']\n",
            "Train for 500 steps, validate for 50 steps\n",
            "Epoch 1/200\n"
          ],
          "name": "stdout"
        }
      ]
    },
    {
      "cell_type": "markdown",
      "metadata": {
        "id": "GVe1oVQnRliy",
        "colab_type": "text"
      },
      "source": [
        "# 验证模型"
      ]
    },
    {
      "cell_type": "code",
      "metadata": {
        "id": "lu61jCnJ0fQ2",
        "colab_type": "code",
        "colab": {}
      },
      "source": [
        "def predict_pic(xpics,model):\n",
        "  # xpic: array of 5 with size(22,52,1)\n",
        "  picout = np.zeros((picsizex*enhance,picsizey*enhance),dtype=np.float32)\n",
        "  piclayer = np.zeros((picsizex*enhance,picsizey*enhance),dtype=int)\n",
        "  for posx in range(0,picsizex+1-datasizex):\n",
        "    for posy in range(0,picsizey+1-datasizey):\n",
        "      dataout = [pic[np.newaxis,posx:posx+datasizex,posy:posy+datasizey,:] for pic in xpics]\n",
        "      pred = model.predict(dataout)\n",
        "      picout[posx*enhance:(posx+datasizex)*enhance,posy*enhance:(posy+datasizey)*enhance] += pred[0,:,:,0]\n",
        "      piclayer[posx*enhance:(posx+datasizex)*enhance,posy*enhance:(posy+datasizey)*enhance] += np.ones((datasizex*enhance,datasizey*enhance),dtype=int)\n",
        "  picout /= piclayer\n",
        "  return picout\n"
      ],
      "execution_count": 0,
      "outputs": []
    },
    {
      "cell_type": "code",
      "metadata": {
        "id": "CAhBlSEAhnFq",
        "colab_type": "code",
        "colab": {}
      },
      "source": [
        "data,ans = next(test_pic_generator)\n",
        "\n",
        "import matplotlib\n",
        "cmap = matplotlib.cm.gray \n",
        "cmap.set_bad(color='black')\n",
        "\n",
        "pred = predict_pic(data,model)\n",
        "\n",
        "for i in range(6):\n",
        "  plt.subplot(231+i)\n",
        "  b,g,r = cv2.split(data[i])       # get b,g,r\n",
        "  rgb_img = cv2.merge([r,g,b])     # switch it to rgb\n",
        "  plt.imshow(rgb_img)\n",
        "\n",
        "plt.show()      \n",
        "pred[0,0]=0\n",
        "pred[-1,-1]=1\n",
        "ans[0,0]=0\n",
        "ans[-1,-1]=1\n",
        "plt.subplot(121)\n",
        "plt.imshow(pred,cmap=cmap)\n",
        "plt.colorbar()\n",
        "#ans = np.clip((ans-np.percentile(ans,10))/(np.percentile(ans,90)-np.percentile(ans,10)),0,1)\n",
        "plt.subplot(122)\n",
        "plt.imshow(ans,cmap=cmap)\n",
        "plt.colorbar()\n",
        "plt.show()\n",
        "#      print('psnr',peak_signal_noise_ratio(np.clip(pred[0,:,:,0],0,1),ans))\n",
        "#      print('ssim',structural_similarity(np.clip(pred[0,:,:,0],0,1),ans))\n",
        "#print('mse',mean_squared_error(np.clip(pred,0,1),ans))\n"
      ],
      "execution_count": 0,
      "outputs": []
    }
  ]
}