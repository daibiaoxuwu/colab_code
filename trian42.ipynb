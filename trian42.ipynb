{
  "nbformat": 4,
  "nbformat_minor": 0,
  "metadata": {
    "accelerator": "GPU",
    "anaconda-cloud": {},
    "colab": {
      "name": "trian4.ipynb",
      "provenance": [],
      "private_outputs": true,
      "collapsed_sections": []
    },
    "kernelspec": {
      "name": "python3",
      "display_name": "Python 3"
    },
    "language_info": {
      "codemirror_mode": {
        "name": "ipython",
        "version": 3
      },
      "file_extension": ".py",
      "mimetype": "text/x-python",
      "name": "python",
      "nbconvert_exporter": "python",
      "pygments_lexer": "ipython3",
      "version": "3.5.2"
    }
  },
  "cells": [
    {
      "cell_type": "markdown",
      "metadata": {
        "colab_type": "text",
        "id": "3wF5wszaj97Y"
      },
      "source": [
        "# 以相似度为训练目标"
      ]
    },
    {
      "cell_type": "markdown",
      "metadata": {
        "colab_type": "text",
        "id": "nnrWf3PCEzXL"
      },
      "source": [
        "## 生成训练数据，暂存于本地"
      ]
    },
    {
      "cell_type": "code",
      "metadata": {
        "colab_type": "code",
        "id": "7aFIIQdwvPPM",
        "colab": {}
      },
      "source": [
        "!git clone https://github.com/daibiaoxuwu/05wan3"
      ],
      "execution_count": 0,
      "outputs": []
    },
    {
      "cell_type": "code",
      "metadata": {
        "colab_type": "code",
        "id": "fy2cDLkWvrvl",
        "colab": {}
      },
      "source": [
        "!git clone https://github.com/daibiaoxuwu/05wan3b"
      ],
      "execution_count": 0,
      "outputs": []
    },
    {
      "cell_type": "code",
      "metadata": {
        "colab_type": "code",
        "id": "gtgz-INDwsA2",
        "colab": {}
      },
      "source": [
        "import os\n",
        "import cv2\n",
        "import numpy as np\n",
        "path1 = '05wan3'\n",
        "path2 = '05wan3b/0'\n",
        "\n",
        "clocks = dict()\n",
        "x_train0 = []\n",
        "y_train0 = []\n",
        "for filename in os.listdir(path2):\n",
        "    if 'git' in filename: continue\n",
        "    #print(path1)\n",
        "    #ftimestr,number = path1.split('_')\n",
        "    clocks[int(filename.split('_')[0])]=int(filename.split('_')[1][:-4])\n",
        "    #clocks[int(ftimestr)]=int(number)\n",
        "keys = clocks.keys()\n",
        "for filename in os.listdir(path1):\n",
        "    if 'git' in filename or 'c.jpg' in filename: continue\n",
        "    ftime = int(filename.split('_')[0])\n",
        "    value = max(filter(lambda t:t<ftime,keys))\n",
        "    x_train0.append(cv2.imread(os.path.join(path1,filename), cv2.IMREAD_GRAYSCALE)[:,:,np.newaxis]/255.0)\n",
        "    y_train0.append(clocks[value])\n",
        "    \n",
        "print(len(x_train0),len(y_train0))"
      ],
      "execution_count": 0,
      "outputs": []
    },
    {
      "cell_type": "code",
      "metadata": {
        "colab_type": "code",
        "id": "d0agG8K9wD3x",
        "colab": {}
      },
      "source": [
        "import seaborn as sns\n",
        "sns.countplot(y_train0)\n",
        "print(y_train0[:100])"
      ],
      "execution_count": 0,
      "outputs": []
    },
    {
      "cell_type": "markdown",
      "metadata": {
        "colab_type": "text",
        "id": "-lmz0keARk85"
      },
      "source": [
        "# 转为onehot，分离test和train"
      ]
    },
    {
      "cell_type": "code",
      "metadata": {
        "colab_type": "code",
        "id": "7imN2NoQwcBv",
        "colab": {}
      },
      "source": [
        "from keras.utils.np_utils import to_categorical\n",
        "y_train0 = to_categorical(y_train0, num_classes = 10)\n",
        "from sklearn.model_selection import train_test_split\n",
        "X_train, X_val, Y_train, Y_val = train_test_split(x_train0, y_train0, test_size = 0.1, random_state=2)"
      ],
      "execution_count": 0,
      "outputs": []
    },
    {
      "cell_type": "code",
      "metadata": {
        "colab_type": "code",
        "id": "8QGa2e83ygoi",
        "colab": {}
      },
      "source": [
        "print(X_train[0].shape, X_val[0].shape, Y_train[0].shape, Y_val[0].shape)"
      ],
      "execution_count": 0,
      "outputs": []
    },
    {
      "cell_type": "markdown",
      "metadata": {
        "id": "8vuxEAairfHZ",
        "colab_type": "text"
      },
      "source": [
        "# 变为5张图片一叠"
      ]
    },
    {
      "cell_type": "code",
      "metadata": {
        "id": "EUvVcLJmreJ4",
        "colab_type": "code",
        "colab": {}
      },
      "source": [
        "idxes = []*10\n",
        "for idx, val in enumerate(y_train0):\n",
        "  idxes[val].append(idx)\n",
        "\n",
        "import random\n",
        "\n",
        "def train_generator():\n",
        "  for train in range(60000):\n",
        "    ans = random.randint(0,10)\n",
        "    data = np.stack(x_train0[random.sample(idxes[ans],5)],axis=2)\n",
        "    ansy = np.zeros(10)\n",
        "    ansy[ans] = 1\n",
        "    yield (data,ansy)\n",
        "\n",
        "train_dataset = tf.data.Dataset.from_generator(train_generator, (tf.float32, tf.float32), (tf.TensorShape([12,12,5]),tf.TensorShape([10,])))\n",
        "train_dataset = train_dataset.batch(100)\n"
      ],
      "execution_count": 0,
      "outputs": []
    },
    {
      "cell_type": "markdown",
      "metadata": {
        "colab_type": "text",
        "id": "VBl_86rWRk9F"
      },
      "source": [
        "# 装载Tensorflow"
      ]
    },
    {
      "cell_type": "code",
      "metadata": {
        "colab_type": "code",
        "id": "0trJmd6DjqBZ",
        "colab": {}
      },
      "source": [
        "from __future__ import absolute_import, division, print_function, unicode_literals\n",
        "\n",
        "# 安装 TensorFlow\n",
        "try:\n",
        "  # Colab only\n",
        "  %tensorflow_version 1.x\n",
        "except Exception:\n",
        "    pass\n",
        "\n",
        "import tensorflow as tf"
      ],
      "execution_count": 0,
      "outputs": []
    },
    {
      "cell_type": "markdown",
      "metadata": {
        "colab_type": "text",
        "id": "8JqmdPzmRk9Q"
      },
      "source": [
        "# 输入数据生成器"
      ]
    },
    {
      "cell_type": "markdown",
      "metadata": {
        "colab_type": "text",
        "id": "BPZ68wASog_I"
      },
      "source": [
        "# 构建模型，优化器和损失函数："
      ]
    },
    {
      "cell_type": "code",
      "metadata": {
        "colab_type": "code",
        "id": "h3IKyzTCDNGo",
        "colab": {}
      },
      "source": [
        "from keras.models import Sequential\n",
        "from keras.layers import Dense, Dropout, Flatten, Conv2D, MaxPool2D\n",
        "from keras.optimizers import RMSprop\n",
        "\n",
        "model = Sequential()\n",
        "model.add(Conv2D(filters = 32, kernel_size = (5,5),padding = 'Same', \n",
        "                 activation ='relu', input_shape = (12,12,5)))\n",
        "model.add(Conv2D(filters = 32, kernel_size = (5,5),padding = 'Same', \n",
        "                 activation ='relu'))\n",
        "model.add(MaxPool2D(pool_size=(2,2)))\n",
        "model.add(Dropout(0.25))\n",
        "\n",
        "\n",
        "model.add(Conv2D(filters = 64, kernel_size = (3,3),padding = 'Same', \n",
        "                 activation ='relu'))\n",
        "model.add(Conv2D(filters = 64, kernel_size = (3,3),padding = 'Same', \n",
        "                 activation ='relu'))\n",
        "model.add(MaxPool2D(pool_size=(2,2), strides=(2,2)))\n",
        "model.add(Dropout(0.25))\n",
        "\n",
        "\n",
        "model.add(Flatten())\n",
        "model.add(Dense(256, activation = \"relu\"))\n",
        "model.add(Dropout(0.5))\n",
        "model.add(Dense(10, activation = \"softmax\"))\n",
        "\n",
        "optimizer = RMSprop(lr=0.001, rho=0.9, epsilon=1e-08, decay=0.0)\n",
        "model.compile(optimizer = optimizer , loss = \"categorical_crossentropy\", metrics=[\"accuracy\"])\n",
        "\n",
        "\n",
        "from keras.callbacks import ReduceLROnPlateau\n",
        "learning_rate_reduction = ReduceLROnPlateau(monitor='val_acc', \n",
        "                                            patience=3, \n",
        "                                            verbose=1, \n",
        "                                            factor=0.5, \n",
        "                                            min_lr=0.00001)\n",
        "epochs = 30 # Turn epochs to 30 to get 0.9967 accuracy\n",
        "batch_size = 86\n",
        "\n",
        "\n",
        "from keras.preprocessing.image import ImageDataGenerator\n",
        "\n",
        "datagen = ImageDataGenerator(\n",
        "        featurewise_center=False,  # set input mean to 0 over the dataset\n",
        "        samplewise_center=False,  # set each sample mean to 0\n",
        "        featurewise_std_normalization=False,  # divide inputs by std of the dataset\n",
        "        samplewise_std_normalization=False,  # divide each input by its std\n",
        "        zca_whitening=False,  # apply ZCA whitening\n",
        "        rotation_range=10,  # randomly rotate images in the range (degrees, 0 to 180)\n",
        "        zoom_range = 0.1, # Randomly zoom image \n",
        "        width_shift_range=0.1,  # randomly shift images horizontally (fraction of total width)\n",
        "        height_shift_range=0.1,  # randomly shift images vertically (fraction of total height)\n",
        "        horizontal_flip=False,  # randomly flip images\n",
        "        vertical_flip=False)  # randomly flip images\n",
        "\n",
        "\n",
        "datagen.fit(X_train)\n",
        "X_train2=np.array(X_train)\n",
        "X_val2=np.array(X_val)\n",
        "history = model.fit_generator(datagen.flow(X_train2,Y_train, batch_size=batch_size),\n",
        "                              epochs = epochs, validation_data = (X_val2,Y_val),\n",
        "                              verbose = 2, steps_per_epoch=X_train2.shape[0] // batch_size\n",
        "                              , callbacks=[learning_rate_reduction])"
      ],
      "execution_count": 0,
      "outputs": []
    },
    {
      "cell_type": "markdown",
      "metadata": {
        "colab_type": "text",
        "id": "ix4mEL65on-w"
      },
      "source": [
        "# 训练并验证模型："
      ]
    }
  ]
}